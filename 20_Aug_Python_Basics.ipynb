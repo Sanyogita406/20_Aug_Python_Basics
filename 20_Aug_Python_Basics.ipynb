{
  "nbformat": 4,
  "nbformat_minor": 0,
  "metadata": {
    "colab": {
      "provenance": []
    },
    "kernelspec": {
      "name": "python3",
      "display_name": "Python 3"
    },
    "language_info": {
      "name": "python"
    }
  },
  "cells": [
    {
      "cell_type": "code",
      "execution_count": null,
      "metadata": {
        "id": "XNdZSaWeNEez"
      },
      "outputs": [],
      "source": [
        "#TOPIC: String Based Assignment Problem"
      ]
    },
    {
      "cell_type": "code",
      "source": [
        "#1. To reverse a string\n",
        "\n",
        "s1 = \"Sanyogita\"\n",
        "s1[8: :-1]"
      ],
      "metadata": {
        "colab": {
          "base_uri": "https://localhost:8080/",
          "height": 35
        },
        "id": "NHS5ZQ6mN-64",
        "outputId": "5677ed48-8d78-4c0d-9f89-69c1d177a502"
      },
      "execution_count": null,
      "outputs": [
        {
          "output_type": "execute_result",
          "data": {
            "text/plain": [
              "'atigoynaS'"
            ],
            "application/vnd.google.colaboratory.intrinsic+json": {
              "type": "string"
            }
          },
          "metadata": {},
          "execution_count": 16
        }
      ]
    },
    {
      "cell_type": "code",
      "source": [
        "#2. If string is a palindrome\n",
        "\n",
        "def check_plain(str):\n",
        "  for i in range(0, int (len (str)/2)):\n",
        "    if str [i] != str [len (str) -i-1]:\n",
        "      return False\n",
        "    return True\n",
        "str_1 = input(\"Enter a string \")\n",
        "ans = check_plain (str_1)\n",
        "if(ans):\n",
        "  print(\"The string is a palindrome\")\n",
        "else:\n",
        "  print(print(\"The string is not a palindrome\"))"
      ],
      "metadata": {
        "id": "leqZu4qSOvcH",
        "colab": {
          "base_uri": "https://localhost:8080/"
        },
        "outputId": "7f053e05-a394-4e02-8419-6d12f109f3eb"
      },
      "execution_count": null,
      "outputs": [
        {
          "output_type": "stream",
          "name": "stdout",
          "text": [
            "Enter a string sanyogita\n",
            "The string is not a palindrome\n",
            "None\n"
          ]
        }
      ]
    },
    {
      "cell_type": "code",
      "source": [
        "#3. Converting string to upper case\n",
        "\n",
        "s2 = \"shailesh\"\n",
        "s2.upper()"
      ],
      "metadata": {
        "colab": {
          "base_uri": "https://localhost:8080/",
          "height": 35
        },
        "id": "QWBfK65vPU3K",
        "outputId": "332be56f-72a3-4e4f-d4de-bc6315d47efb"
      },
      "execution_count": null,
      "outputs": [
        {
          "output_type": "execute_result",
          "data": {
            "text/plain": [
              "'SHAILESH'"
            ],
            "application/vnd.google.colaboratory.intrinsic+json": {
              "type": "string"
            }
          },
          "metadata": {},
          "execution_count": 35
        }
      ]
    },
    {
      "cell_type": "code",
      "source": [
        " #4. Converting a string to lower case\n",
        "\n",
        "s3 = \"MANAN\"\n",
        "s3.lower()"
      ],
      "metadata": {
        "colab": {
          "base_uri": "https://localhost:8080/",
          "height": 35
        },
        "id": "FB8uJGs4QABj",
        "outputId": "d0068120-ad44-41de-c0bf-2714ac8a98ae"
      },
      "execution_count": null,
      "outputs": [
        {
          "output_type": "execute_result",
          "data": {
            "text/plain": [
              "'manan'"
            ],
            "application/vnd.google.colaboratory.intrinsic+json": {
              "type": "string"
            }
          },
          "metadata": {},
          "execution_count": 19
        }
      ]
    },
    {
      "cell_type": "code",
      "source": [
        "#5. Counting the number of vowels in a string\n",
        "\n",
        "string = \"Sanyogita Singh\"\n",
        "vowels = \"a,e,i,o,u,A,E,I,O,U\"\n",
        "\n",
        "count = sum(string.count(vowel)for vowel in vowels)\n",
        "print(count)"
      ],
      "metadata": {
        "colab": {
          "base_uri": "https://localhost:8080/"
        },
        "id": "K9SeupbqQZSe",
        "outputId": "632c3ddd-2de2-423d-e35a-2d2649eecd3e"
      },
      "execution_count": null,
      "outputs": [
        {
          "output_type": "stream",
          "name": "stdout",
          "text": [
            "5\n"
          ]
        }
      ]
    },
    {
      "cell_type": "code",
      "source": [
        "#6. Counting the number of consonents in a string\n",
        "\n",
        "str = \"python is a good language\"\n",
        "vowels = 'a,e,i,o,u'\n",
        "result = {v for v in str if v not in vowels}\n",
        "print(''.join(result))\n"
      ],
      "metadata": {
        "colab": {
          "base_uri": "https://localhost:8080/"
        },
        "id": "V69ZMHzHTJsA",
        "outputId": "912eb33d-9c1f-4ac9-92a9-5821eb36dcdd"
      },
      "execution_count": null,
      "outputs": [
        {
          "output_type": "stream",
          "name": "stdout",
          "text": [
            " hydglsntp\n"
          ]
        }
      ]
    },
    {
      "cell_type": "code",
      "source": [
        "#7. Removing all whitespaces from string\n",
        "\n",
        "s3 = \"   python is a beautiful language      \"\n",
        "s3.strip()"
      ],
      "metadata": {
        "colab": {
          "base_uri": "https://localhost:8080/",
          "height": 35
        },
        "id": "7JyB6QtIV2Zx",
        "outputId": "e54b503e-e752-4388-9b94-917ad5980ddc"
      },
      "execution_count": null,
      "outputs": [
        {
          "output_type": "execute_result",
          "data": {
            "text/plain": [
              "'python is a beautiful language'"
            ],
            "application/vnd.google.colaboratory.intrinsic+json": {
              "type": "string"
            }
          },
          "metadata": {},
          "execution_count": 22
        }
      ]
    },
    {
      "cell_type": "code",
      "source": [
        "#8. Find the length of a string\n",
        "\n",
        "string = 'Hello'\n",
        "\n",
        "count = 0\n",
        "\n",
        "for i in string:\n",
        "\n",
        "  count+=1\n",
        "  print(count)\n"
      ],
      "metadata": {
        "colab": {
          "base_uri": "https://localhost:8080/"
        },
        "id": "mtuo0GWoYS_f",
        "outputId": "aceae7ac-b1ba-4e2b-91cc-97ad527a14f6"
      },
      "execution_count": null,
      "outputs": [
        {
          "output_type": "stream",
          "name": "stdout",
          "text": [
            "1\n",
            "2\n",
            "3\n",
            "4\n",
            "5\n"
          ]
        }
      ]
    },
    {
      "cell_type": "code",
      "source": [
        "#9. Checking if string contains a specific word\n",
        "\n",
        "s4 = \"sanyogita\"\n",
        "s4.find('y')"
      ],
      "metadata": {
        "colab": {
          "base_uri": "https://localhost:8080/"
        },
        "id": "VOzUiy0aZGSc",
        "outputId": "42eea1b8-7be4-4166-9ee9-5645fca5ca65"
      },
      "execution_count": null,
      "outputs": [
        {
          "output_type": "execute_result",
          "data": {
            "text/plain": [
              "3"
            ]
          },
          "metadata": {},
          "execution_count": 24
        }
      ]
    },
    {
      "cell_type": "code",
      "source": [
        "#10. Replacing a word in a string with another words\n",
        "\n",
        "s5 = \"sanyogita\"\n",
        "s5.replace(\"s\",\"a\")"
      ],
      "metadata": {
        "colab": {
          "base_uri": "https://localhost:8080/",
          "height": 35
        },
        "id": "gzcCjyEQah4A",
        "outputId": "184073de-da1a-43be-cc20-e34e5f4e9a87"
      },
      "execution_count": null,
      "outputs": [
        {
          "output_type": "execute_result",
          "data": {
            "text/plain": [
              "'aanyogita'"
            ],
            "application/vnd.google.colaboratory.intrinsic+json": {
              "type": "string"
            }
          },
          "metadata": {},
          "execution_count": 26
        }
      ]
    },
    {
      "cell_type": "code",
      "source": [
        "#11. Count the number of occurrence of a word in a string\n",
        "\n",
        "s6 = \"sanyogita\"\n",
        "s6.count(\"a\")"
      ],
      "metadata": {
        "colab": {
          "base_uri": "https://localhost:8080/"
        },
        "id": "em4hswP4bQPO",
        "outputId": "baa9154c-c1f9-44a8-ebd5-91d9f4d25364"
      },
      "execution_count": null,
      "outputs": [
        {
          "output_type": "execute_result",
          "data": {
            "text/plain": [
              "2"
            ]
          },
          "metadata": {},
          "execution_count": 27
        }
      ]
    },
    {
      "cell_type": "code",
      "source": [
        "#12. Finding the first occurence of a word in a string\n",
        "\n",
        "s = \"sanyogita\"\n",
        "s[0]"
      ],
      "metadata": {
        "colab": {
          "base_uri": "https://localhost:8080/",
          "height": 35
        },
        "id": "1pRMo0GMb5jo",
        "outputId": "283e9b58-455f-4cb1-9d1f-b74d398304b9"
      },
      "execution_count": null,
      "outputs": [
        {
          "output_type": "execute_result",
          "data": {
            "text/plain": [
              "'s'"
            ],
            "application/vnd.google.colaboratory.intrinsic+json": {
              "type": "string"
            }
          },
          "metadata": {},
          "execution_count": 29
        }
      ]
    },
    {
      "cell_type": "code",
      "source": [
        "#13. Findind the last occurence of a word in a string\n",
        "\n",
        "s = \"sanyogita\"\n",
        "s[8]"
      ],
      "metadata": {
        "colab": {
          "base_uri": "https://localhost:8080/",
          "height": 35
        },
        "id": "L3oYHZx6cXB5",
        "outputId": "e2a676ac-3eff-4d78-fb44-89c26130a71d"
      },
      "execution_count": null,
      "outputs": [
        {
          "output_type": "execute_result",
          "data": {
            "text/plain": [
              "'a'"
            ],
            "application/vnd.google.colaboratory.intrinsic+json": {
              "type": "string"
            }
          },
          "metadata": {},
          "execution_count": 31
        }
      ]
    },
    {
      "cell_type": "code",
      "source": [
        "#14. Split a string into a list of words\n",
        "\n",
        "s = \"sanyogita\"\n",
        "list(\"sanyogita\")"
      ],
      "metadata": {
        "colab": {
          "base_uri": "https://localhost:8080/"
        },
        "id": "Tz6dI2b7c6-c",
        "outputId": "8cb1bd7d-f15b-47ef-e111-d0c3684c9ae5"
      },
      "execution_count": null,
      "outputs": [
        {
          "output_type": "execute_result",
          "data": {
            "text/plain": [
              "['s', 'a', 'n', 'y', 'o', 'g', 'i', 't', 'a']"
            ]
          },
          "metadata": {},
          "execution_count": 35
        }
      ]
    },
    {
      "cell_type": "code",
      "source": [
        "#15. Join a list of words into a string\n",
        "\n",
        "s = \"sanyogita\"\n",
        "p = \"singh\"\n",
        "print(s+\" \"+p)"
      ],
      "metadata": {
        "colab": {
          "base_uri": "https://localhost:8080/"
        },
        "id": "4Ry9FRlkeoPy",
        "outputId": "57c3d3dc-2e1f-4834-e4ca-4db88163b0a6"
      },
      "execution_count": null,
      "outputs": [
        {
          "output_type": "stream",
          "name": "stdout",
          "text": [
            "sanyogita singh\n"
          ]
        }
      ]
    },
    {
      "cell_type": "code",
      "source": [
        "#16. Convert a string where words are seperated by spaces to one where words are separated by underscores\n",
        "\n",
        "str = \"Keep calm and keep confident\"\n",
        "print(str.split(\" \"))\n",
        "print(\"_\".join(str.split()))"
      ],
      "metadata": {
        "id": "ereRuxBBgRQo",
        "colab": {
          "base_uri": "https://localhost:8080/"
        },
        "outputId": "0979495e-0376-4daf-d6c0-673d1f2f2851"
      },
      "execution_count": null,
      "outputs": [
        {
          "output_type": "stream",
          "name": "stdout",
          "text": [
            "['Keep', 'calm', 'and', 'keep', 'confident']\n",
            "Keep_calm_and_keep_confident\n"
          ]
        }
      ]
    },
    {
      "cell_type": "code",
      "source": [
        "#17.Check if a string starts with a specific word or phase\n",
        "\n",
        "message = 'Python is fun'\n",
        "\n",
        "if(message.startswith('Python')):\n",
        " print (\"True\")\n",
        "else:\n",
        "  print(\"False\")"
      ],
      "metadata": {
        "id": "L8aqmuXsidvB",
        "colab": {
          "base_uri": "https://localhost:8080/"
        },
        "outputId": "bb5ddb11-c9a4-4683-bd84-3720385dec20"
      },
      "execution_count": null,
      "outputs": [
        {
          "output_type": "stream",
          "name": "stdout",
          "text": [
            "True\n"
          ]
        }
      ]
    },
    {
      "cell_type": "code",
      "source": [
        "#18. Check if a string ends with a specific word or phase\n",
        "\n",
        "message = 'Python is fun'\n",
        "\n",
        "if(message.endswith('fun')):\n",
        " print(\"True\")\n",
        "else:\n",
        "  print(\"False\")"
      ],
      "metadata": {
        "colab": {
          "base_uri": "https://localhost:8080/"
        },
        "id": "H8DZ9eRkmddZ",
        "outputId": "aa637fa9-6acb-4917-f2ff-7f418b0aceb6"
      },
      "execution_count": null,
      "outputs": [
        {
          "output_type": "stream",
          "name": "stdout",
          "text": [
            "True\n"
          ]
        }
      ]
    },
    {
      "cell_type": "code",
      "source": [
        "#19. Convert a string to title case\n",
        "\n",
        "s7 = \"i m going to the market\"\n",
        "s7.title()"
      ],
      "metadata": {
        "colab": {
          "base_uri": "https://localhost:8080/",
          "height": 35
        },
        "id": "SYIPI6cKplbp",
        "outputId": "77fa1214-234e-4d44-ce44-29df05d59497"
      },
      "execution_count": null,
      "outputs": [
        {
          "output_type": "execute_result",
          "data": {
            "text/plain": [
              "'I M Going To The Market'"
            ],
            "application/vnd.google.colaboratory.intrinsic+json": {
              "type": "string"
            }
          },
          "metadata": {},
          "execution_count": 53
        }
      ]
    },
    {
      "cell_type": "code",
      "source": [
        "#20. Find the longest word in a string\n",
        "\n",
        "str = input(\"Enter a string: \")\n",
        "word_list = str.split()\n",
        "longest_word = max(word_list, key = len)\n",
        "print(\"Longest word: \", longest_word)"
      ],
      "metadata": {
        "colab": {
          "base_uri": "https://localhost:8080/"
        },
        "id": "sStZCh0VqFV3",
        "outputId": "fc738013-1218-4cd7-fd1e-bfee6051ddc4"
      },
      "execution_count": null,
      "outputs": [
        {
          "output_type": "stream",
          "name": "stdout",
          "text": [
            "Enter a string: Be confident and keep going\n",
            "Longest word:  confident\n"
          ]
        }
      ]
    },
    {
      "cell_type": "code",
      "source": [
        "#21. Find the shortest word in a string\n",
        "\n",
        "str = input(\"Enter a string: \")\n",
        "word_list = str.split()\n",
        "shortest_word = min(word_list, key = len)\n",
        "print(\"Shorted word: \", shortest_word)"
      ],
      "metadata": {
        "colab": {
          "base_uri": "https://localhost:8080/"
        },
        "id": "r57Ue_Jvsb5h",
        "outputId": "94820ea5-86f7-48be-8762-7e8dd4eebf47"
      },
      "execution_count": null,
      "outputs": [
        {
          "output_type": "stream",
          "name": "stdout",
          "text": [
            "Enter a string Practice is the key to success\n",
            "Shorted word:  is\n"
          ]
        }
      ]
    },
    {
      "cell_type": "code",
      "source": [
        "#22. Reverse the order of words in a string\n",
        "\n",
        "u = \" i love programming\"\n",
        "words = u.split(' ')\n",
        "string = []\n",
        "for word in words:\n",
        "  string.insert(0, word)\n",
        "print(\"Reversed String: \")\n",
        "print(\" \".join(string))"
      ],
      "metadata": {
        "colab": {
          "base_uri": "https://localhost:8080/"
        },
        "id": "bDm9uuLHtZs-",
        "outputId": "15fc2adb-c8fa-410a-c434-644b69157f04"
      },
      "execution_count": null,
      "outputs": [
        {
          "output_type": "stream",
          "name": "stdout",
          "text": [
            "Reversed String: \n",
            "programming love i \n"
          ]
        }
      ]
    },
    {
      "cell_type": "code",
      "source": [
        "#23. Check if a string is alpanumeric\n",
        "\n",
        "f = \"Hello World\"\n",
        "f.isalnum()"
      ],
      "metadata": {
        "colab": {
          "base_uri": "https://localhost:8080/"
        },
        "id": "bL4ItS_eu4RO",
        "outputId": "09779b4e-d3a8-439f-d8a2-4b0c6357a8f0"
      },
      "execution_count": null,
      "outputs": [
        {
          "output_type": "execute_result",
          "data": {
            "text/plain": [
              "False"
            ]
          },
          "metadata": {},
          "execution_count": 65
        }
      ]
    },
    {
      "cell_type": "code",
      "source": [
        "#24. Extract all digita from a string\n",
        "\n",
        "o = \"Buy 2 get 1 free\"\n",
        "\n",
        "for i in o:\n",
        "  if(i.isdigit()):\n",
        "    print(i,end=\"\")"
      ],
      "metadata": {
        "colab": {
          "base_uri": "https://localhost:8080/"
        },
        "id": "38qqZfUwxSM2",
        "outputId": "0789f076-d651-4489-fc86-ffb87f151ffb"
      },
      "execution_count": null,
      "outputs": [
        {
          "output_type": "stream",
          "name": "stdout",
          "text": [
            "21"
          ]
        }
      ]
    },
    {
      "cell_type": "code",
      "source": [
        "#25. Extract all alphabets from a string\n",
        "\n",
        "o = \"Buy 2 get 1 free\"\n",
        "\n",
        "for i in o:\n",
        "  if(i.isalpha()):\n",
        "    print(i,end=\"\")"
      ],
      "metadata": {
        "colab": {
          "base_uri": "https://localhost:8080/"
        },
        "id": "mHpEbTPlyxrb",
        "outputId": "dca0268c-a3b0-4aa0-c4d0-1b8f68e0b608"
      },
      "execution_count": null,
      "outputs": [
        {
          "output_type": "stream",
          "name": "stdout",
          "text": [
            "Buygetfree"
          ]
        }
      ]
    },
    {
      "cell_type": "code",
      "source": [
        "#26. Count the number of uppercase letters in a string\n",
        "\n",
        "f = 'Hello World'\n",
        "upper = 0\n",
        "for i in f:\n",
        "  if(i.isupper()):\n",
        "     upper+=1\n",
        "print(\"The number of uppercase is: \" , upper)"
      ],
      "metadata": {
        "id": "4S9pQ5_GzxWZ",
        "colab": {
          "base_uri": "https://localhost:8080/"
        },
        "outputId": "962df34d-472a-4dcc-e4d3-bb6d337cbf6a"
      },
      "execution_count": null,
      "outputs": [
        {
          "output_type": "stream",
          "name": "stdout",
          "text": [
            "The number of uppercase is:  2\n"
          ]
        }
      ]
    },
    {
      "cell_type": "code",
      "source": [
        "#27. Count the number of lowercase letters in a string\n",
        "\n",
        "f = \"Hello World\"\n",
        "lower = 0\n",
        "for i in f:\n",
        "  if(i.islower()):\n",
        "    lower+=1\n",
        "print(\"The number of lower is: \" , lower)"
      ],
      "metadata": {
        "colab": {
          "base_uri": "https://localhost:8080/"
        },
        "id": "CdO_C2ztSmo9",
        "outputId": "dbaac579-8cb9-47bd-d287-01cd159674b2"
      },
      "execution_count": null,
      "outputs": [
        {
          "output_type": "stream",
          "name": "stdout",
          "text": [
            "The number of lower is:  8\n"
          ]
        }
      ]
    },
    {
      "cell_type": "code",
      "source": [
        "#28. Swap the case of each character in a string\n",
        "\n",
        "name = \"Shailesh Singh\"\n",
        "print(name.swapcase())\n"
      ],
      "metadata": {
        "colab": {
          "base_uri": "https://localhost:8080/"
        },
        "id": "gf-D2jOKT5sg",
        "outputId": "c7b9b609-c3bd-4efd-f1d6-f3e7df646ff3"
      },
      "execution_count": null,
      "outputs": [
        {
          "output_type": "stream",
          "name": "stdout",
          "text": [
            "sHAILESH sINGH\n"
          ]
        }
      ]
    },
    {
      "cell_type": "code",
      "source": [
        "#29. Remove a specific word from a string\n",
        "\n",
        "my_string = \"Hi! I! Love! Python!\"\n",
        "my_new_string = my_string.replace(\"!\" , \"\")\n",
        "print(my_new_string)"
      ],
      "metadata": {
        "colab": {
          "base_uri": "https://localhost:8080/"
        },
        "id": "QyMuR97cU-9l",
        "outputId": "d0e63ac0-8221-4185-e9d7-ee5bc4fd9e04"
      },
      "execution_count": null,
      "outputs": [
        {
          "output_type": "stream",
          "name": "stdout",
          "text": [
            "Hi I Love Python\n"
          ]
        }
      ]
    },
    {
      "cell_type": "code",
      "source": [
        "#30. Check if a string is a valid email address\n",
        "\n",
        "import re\n",
        "def is_valid_email(email):\n",
        "    pattern = r'^[\\w\\.-]+@[\\w\\.-]+\\.\\w+$'\n",
        "    if re.match(pattern , email):\n",
        "      return True\n",
        "    else:\n",
        "      return False\n",
        "email1 = \"sanyogita@gmail.com\"\n",
        "email2 = \"invalid-email\"\n",
        "result1 = is_valid_email(email1)\n",
        "result2 = is_valid_email(email2)\n",
        "print(result1)\n",
        "print(result2)\n"
      ],
      "metadata": {
        "id": "mtH-3BfAVv6I",
        "colab": {
          "base_uri": "https://localhost:8080/"
        },
        "outputId": "8f5540ee-bac6-42e5-91f8-96062919074d"
      },
      "execution_count": null,
      "outputs": [
        {
          "output_type": "stream",
          "name": "stdout",
          "text": [
            "True\n",
            "False\n"
          ]
        }
      ]
    },
    {
      "cell_type": "code",
      "source": [
        "#31. Extract the username from the email address string\n",
        "\n",
        "def extract_username(email):\n",
        "    username = email.split('@')[0]\n",
        "    return username\n",
        "email = \"sanyogita@gmail.com\"\n",
        "result = extract_username(email)\n",
        "print(result)"
      ],
      "metadata": {
        "id": "z72lMcdPYYxY",
        "colab": {
          "base_uri": "https://localhost:8080/"
        },
        "outputId": "33cd4eaa-7b59-45bb-e3e5-7dbc0747c953"
      },
      "execution_count": null,
      "outputs": [
        {
          "output_type": "stream",
          "name": "stdout",
          "text": [
            "sanyogita\n"
          ]
        }
      ]
    },
    {
      "cell_type": "code",
      "source": [
        "#32. Extract the domain name from an email address string\n",
        "\n",
        "def extract_domain(email):\n",
        "  domain = email.split('@')[1]\n",
        "  return domain\n",
        "email = \"sanyogita@gmail.com\"\n",
        "result = extract_domain(email)\n",
        "print(result)"
      ],
      "metadata": {
        "id": "XaLetFZSZYKy",
        "colab": {
          "base_uri": "https://localhost:8080/"
        },
        "outputId": "b8ce4350-6b27-4084-ad72-29cde9d0b707"
      },
      "execution_count": null,
      "outputs": [
        {
          "output_type": "stream",
          "name": "stdout",
          "text": [
            "gmail.com\n"
          ]
        }
      ]
    },
    {
      "cell_type": "code",
      "source": [
        "#33. Replace multiple spaces in a string with a single space\n",
        "\n",
        "g2 = \"The  fox  jumps     over a   log\"\n",
        "result = \" \".join(g2.split())\n",
        "print(repr(result))"
      ],
      "metadata": {
        "id": "z6vaSUrUd_Vz",
        "colab": {
          "base_uri": "https://localhost:8080/"
        },
        "outputId": "8be8cb8d-cefe-4838-9bea-70a462a2c3eb"
      },
      "execution_count": null,
      "outputs": [
        {
          "output_type": "stream",
          "name": "stdout",
          "text": [
            "'The fox jumps over a log'\n"
          ]
        }
      ]
    },
    {
      "cell_type": "code",
      "source": [
        "#34. Check if a string is a valid url\n",
        "\n",
        "from urllib.parse import urlparse\n",
        "def is_valid_url(url):\n",
        "    try:\n",
        "       result = urlparse(url)\n",
        "       return all([result.scheme , result.netloc])\n",
        "    except ValueError:\n",
        "      return False\n",
        "url1 = \"htttps://www.IBPS.com\"\n",
        "url2 = \"invalid-url\"\n",
        "result1 = is_valid_url(url1)\n",
        "result2 = is_valid_url(url2)\n",
        "print(result1)\n",
        "print(result2)"
      ],
      "metadata": {
        "id": "Moyd-7L5eMSK",
        "colab": {
          "base_uri": "https://localhost:8080/"
        },
        "outputId": "30e73ea2-0299-4398-a7e7-8393292c5b82"
      },
      "execution_count": null,
      "outputs": [
        {
          "output_type": "stream",
          "name": "stdout",
          "text": [
            "True\n",
            "False\n"
          ]
        }
      ]
    },
    {
      "cell_type": "code",
      "source": [
        "#35. Extract the protocol (http or https)from a url string\n",
        "\n",
        "def extract_protocol(url):\n",
        "  protocol_end = url.find(\"://\")\n",
        "\n",
        "  if protocol_end != -1:\n",
        "      protocol = url[:protocol_end]\n",
        "      return protocol\n",
        "  else:\n",
        "     return None\n",
        "\n",
        "url1 = \"https://www.ibps.com\"\n",
        "url2 = \"http://google.com\"\n",
        "url3 = \"ftp://ftp.example.com\"\n",
        "\n",
        "protocol1 = extract_protocol(url1)\n",
        "protocol2 = extract_protocol(url2)\n",
        "protocol3 = extract_protocol(url3)\n",
        "\n",
        "print(\"Protocol 1:\" , protocol1)\n",
        "print(\"Protocol 2:\" , protocol2)\n",
        "print(\"Protocol 3:\" , protocol3)\n"
      ],
      "metadata": {
        "id": "cmESpPpzeV7l",
        "colab": {
          "base_uri": "https://localhost:8080/"
        },
        "outputId": "4e97acc7-e770-4585-a21f-c5c87484addb"
      },
      "execution_count": null,
      "outputs": [
        {
          "output_type": "stream",
          "name": "stdout",
          "text": [
            "Protocol 1: https\n",
            "Protocol 2: http\n",
            "Protocol 3: ftp\n"
          ]
        }
      ]
    },
    {
      "cell_type": "code",
      "source": [
        "#36. Find the frequency of each character in a string\n",
        "\n",
        "g1 = \"Keep calm and confident\"\n",
        "all_freq = {}\n",
        "\n",
        "for i in g1:\n",
        "  if i in all_freq:\n",
        "    all_freq[i] += 1\n",
        "  else:\n",
        "    all_freq[i] = 1\n",
        "print(\"count of all characters in Keep calm and confident is :\\n\"  + str(all_freq))\n",
        "\n"
      ],
      "metadata": {
        "id": "GjTP7oblenkq",
        "colab": {
          "base_uri": "https://localhost:8080/"
        },
        "outputId": "ad18f603-d62b-4906-f9e3-6987d8d330f5"
      },
      "execution_count": null,
      "outputs": [
        {
          "output_type": "stream",
          "name": "stdout",
          "text": [
            "count of all characters in Keep calm and confident is :\n",
            "{'K': 1, 'e': 3, 'p': 1, ' ': 3, 'c': 2, 'a': 2, 'l': 1, 'm': 1, 'n': 3, 'd': 2, 'o': 1, 'f': 1, 'i': 1, 't': 1}\n"
          ]
        }
      ]
    },
    {
      "cell_type": "code",
      "source": [
        "#37. Remove all punctuation from a string\n",
        "\n",
        "import string\n",
        "test_str = \"Hello! Welcome to India. Grad to see you here.\"\n",
        "test_str = test_str.translate(str.maketrans('' , '' , string.punctuation))\n",
        "print(test_str)"
      ],
      "metadata": {
        "id": "b0Ghcc7be0oK",
        "colab": {
          "base_uri": "https://localhost:8080/"
        },
        "outputId": "0b14ece6-a6ef-4855-e40d-fd29e0c676ab"
      },
      "execution_count": null,
      "outputs": [
        {
          "output_type": "stream",
          "name": "stdout",
          "text": [
            "Hello Welcome to India Grad to see you here\n"
          ]
        }
      ]
    },
    {
      "cell_type": "code",
      "source": [
        "#38. Check if a string contains only digits\n",
        "\n",
        "s1 = \"sanyogita\"\n",
        "s1.isalnum()"
      ],
      "metadata": {
        "id": "xcOxWkm9e86A",
        "colab": {
          "base_uri": "https://localhost:8080/"
        },
        "outputId": "2d76bdda-160a-410e-9547-b84d39edee9c"
      },
      "execution_count": null,
      "outputs": [
        {
          "output_type": "execute_result",
          "data": {
            "text/plain": [
              "True"
            ]
          },
          "metadata": {},
          "execution_count": 6
        }
      ]
    },
    {
      "cell_type": "code",
      "source": [
        "#39. Check if a string contains only alphabets\n",
        "\n",
        "s1 = \"sanyogita\"\n",
        "s1.isalpha()"
      ],
      "metadata": {
        "id": "9EbGMFKcfDrJ",
        "colab": {
          "base_uri": "https://localhost:8080/"
        },
        "outputId": "737a527a-5d99-475b-d7bf-5e1cfa030948"
      },
      "execution_count": null,
      "outputs": [
        {
          "output_type": "execute_result",
          "data": {
            "text/plain": [
              "True"
            ]
          },
          "metadata": {},
          "execution_count": 4
        }
      ]
    },
    {
      "cell_type": "code",
      "source": [
        "#40. Convert a string to a list of characters\n",
        "\n",
        "s1 = \"sanyogita\"\n",
        "print([*s1])"
      ],
      "metadata": {
        "id": "DrxfwBchfShh",
        "colab": {
          "base_uri": "https://localhost:8080/"
        },
        "outputId": "6eef4abd-0e4a-426f-a2d5-6f9e04750dbf"
      },
      "execution_count": null,
      "outputs": [
        {
          "output_type": "stream",
          "name": "stdout",
          "text": [
            "['s', 'a', 'n', 'y', 'o', 'g', 'i', 't', 'a']\n"
          ]
        }
      ]
    },
    {
      "cell_type": "code",
      "source": [
        "#41. Check if two strings are anagrams\n",
        "\n",
        "def check(d1,d2):\n",
        "  if(sorted(d1)== sorted(d2)):\n",
        "    print(\"The strings are anagrams.\")\n",
        "  else:\n",
        "    print(\"The strings aren't anagrams\")\n",
        "d1 = \"listen\"\n",
        "d2 = \"silent\"\n",
        "check(d1,d2)"
      ],
      "metadata": {
        "id": "ItoXdXfVfeBc",
        "colab": {
          "base_uri": "https://localhost:8080/"
        },
        "outputId": "04cc412a-1add-4f72-8e2f-d3f58bc7fece"
      },
      "execution_count": null,
      "outputs": [
        {
          "output_type": "stream",
          "name": "stdout",
          "text": [
            "The strings are anagrams.\n"
          ]
        }
      ]
    },
    {
      "cell_type": "code",
      "source": [
        "#42. Encode a string using a caesar cipher\n",
        "\n",
        "def encrypt(text,s):\n",
        "  result = \"\"\n",
        "  for i in range(len(text)):\n",
        "   char = text[i]\n",
        "   if(char.isupper()):\n",
        "    result += chr((ord(char) + s-65) % 26 +65)\n",
        "   else:\n",
        "    result += chr((ord(char) + s - 97) % 26 + 97)\n",
        "  return result\n",
        "text = \"ATTACKATONCE\"\n",
        "s = 4\n",
        "print(\"Text:\" + text)\n",
        "print(\"Shift:\" + str(s))\n",
        "print(\"Cipher:\" + encrypt(text,s))"
      ],
      "metadata": {
        "id": "_7ymMXmBfnB5",
        "colab": {
          "base_uri": "https://localhost:8080/"
        },
        "outputId": "aa424daa-52a9-464b-a183-897ee4a4162f"
      },
      "execution_count": null,
      "outputs": [
        {
          "output_type": "stream",
          "name": "stdout",
          "text": [
            "Text:ATTACKATONCE\n",
            "Shift:4\n",
            "Cipher:EXXEGOEXSRGI\n"
          ]
        }
      ]
    },
    {
      "cell_type": "code",
      "source": [
        "#43. Decode a caesar cipher encoded string\n",
        "\n",
        "def caesar_cipher_decoder(text,shift):\n",
        "  decoded_text = \"\"\n",
        "  for char in text:\n",
        "    if char.isalpha():\n",
        "      decoded_char = chr((ord(char) - shift - ord('a')) % 26 + ord('a'))\n",
        "    else:\n",
        "      decoded_char = char\n",
        "    decoded_text += decoded_text\n",
        "  return decoded_text\n",
        "text = \"lopp, zruog!\"\n",
        "shift = 3\n",
        "decoded_text = caesar_cipher_decoder(text,shift)\n",
        "print(\"Decoded text:\" , decoded_text)"
      ],
      "metadata": {
        "id": "AJo_aE63fx-J",
        "colab": {
          "base_uri": "https://localhost:8080/"
        },
        "outputId": "46494cb5-c16d-4252-b0c4-888c1faba6ef"
      },
      "execution_count": null,
      "outputs": [
        {
          "output_type": "stream",
          "name": "stdout",
          "text": [
            "Decoded text: \n"
          ]
        }
      ]
    },
    {
      "cell_type": "code",
      "source": [
        "#44. Find the most frequent word in a string\n",
        "\n",
        "from collections import defaultdict\n",
        "test_list = [\"hello world\" , \"How's the world\",\"My father is my world\"]\n",
        "print(\"The original list is:\" + str(test_list))\n",
        "temp = defaultdict(int)\n",
        "for sub in test_list:\n",
        "  for wrd in sub.split():\n",
        "    temp[wrd] += 1\n",
        "res = max(temp, key=temp.get)\n",
        "print(\"Word with maxmimum frequency:\" + str(res))"
      ],
      "metadata": {
        "colab": {
          "base_uri": "https://localhost:8080/"
        },
        "id": "4VP83uWVLudF",
        "outputId": "7e1b2fe8-85e8-4e0e-9a33-aed6d4f097a0"
      },
      "execution_count": null,
      "outputs": [
        {
          "output_type": "stream",
          "name": "stdout",
          "text": [
            "The original list is:['hello world', \"How's the world\", 'My father is my world']\n",
            "Word with maxmimum frequency:world\n"
          ]
        }
      ]
    },
    {
      "cell_type": "code",
      "source": [
        "#45. Find all unique words in a string\n",
        "\n",
        "def printwords(l):\n",
        "  for i in l:\n",
        "    print(i)\n",
        "str = \"Keep calm Keep confident\"\n",
        "s = set(str.split(\" \"))\n",
        "printwords(s)"
      ],
      "metadata": {
        "colab": {
          "base_uri": "https://localhost:8080/"
        },
        "id": "OXzdDzMRgDeX",
        "outputId": "3218e5a2-9824-4832-a851-96aa647b124d"
      },
      "execution_count": null,
      "outputs": [
        {
          "output_type": "stream",
          "name": "stdout",
          "text": [
            "Keep\n",
            "confident\n",
            "calm\n"
          ]
        }
      ]
    },
    {
      "cell_type": "code",
      "source": [
        "#46. Count the number of syllabus in a string\n",
        "\n",
        "def count(word):\n",
        "    new_word = word\n",
        "    count_syllabus = new_word.split('-')\n",
        "    return len(count_syllabus)\n",
        "print(count(\"ho-tel\"))"
      ],
      "metadata": {
        "colab": {
          "base_uri": "https://localhost:8080/"
        },
        "id": "xCxKujkdgNUJ",
        "outputId": "c1409e2b-f7e6-4ec4-8f2b-67e3b689f0ee"
      },
      "execution_count": null,
      "outputs": [
        {
          "output_type": "stream",
          "name": "stdout",
          "text": [
            "2\n"
          ]
        }
      ]
    },
    {
      "cell_type": "code",
      "source": [
        "#47. Check if a string contains any special characters\n",
        "\n",
        "n = \"Welcome@to%Jamshedpur\"\n",
        "n.split()\n",
        "c = 0\n",
        "v = '[@_!#$%^&*()<>?/\\|{}~:]'\n",
        "for i in range(len(n)):\n",
        " if n[i] in v:\n",
        "  c+= 1\n",
        "  if c:\n",
        "    print(\"string is not accepted\")\n",
        "  else:\n",
        "    print(\"string accepted\")\n"
      ],
      "metadata": {
        "colab": {
          "base_uri": "https://localhost:8080/"
        },
        "id": "VQZLyGs9gaSM",
        "outputId": "2218e66d-7a5f-41df-9afc-0b0b4dbe057f"
      },
      "execution_count": null,
      "outputs": [
        {
          "output_type": "stream",
          "name": "stdout",
          "text": [
            "string is not accepted\n",
            "string is not accepted\n"
          ]
        }
      ]
    },
    {
      "cell_type": "code",
      "source": [
        "#48. Remove the nth word from a string\n",
        "\n",
        "def omit(list1, word, n1):\n",
        "  if not list1:\n",
        "    return[]\n",
        "  if list1[0] == word and n1 > 0:\n",
        "      return omit(list1[1: ], word , n1-1)\n",
        "  return [list1[0]] + omit(list1[1: ], word, n1)\n",
        "\n",
        "list1 = [\"he\" , \"is\" , \"ankit\" , \"is\" , \"raj\" , \"is\" , \"ankit raj\"]\n",
        "word = \"is\"\n",
        "n1 = 3\n",
        "print(\"new list is: \" , omit(list1, word , n1))"
      ],
      "metadata": {
        "colab": {
          "base_uri": "https://localhost:8080/"
        },
        "id": "TxNYceNGgimN",
        "outputId": "f8580095-3b9d-456c-c097-4d6719f29ae4"
      },
      "execution_count": null,
      "outputs": [
        {
          "output_type": "stream",
          "name": "stdout",
          "text": [
            "new list is:  ['he', 'ankit', 'raj', 'ankit raj']\n"
          ]
        }
      ]
    },
    {
      "cell_type": "code",
      "source": [
        "#49. Insert a word at the nth position in a string\n",
        "test_string = 'Best  Luck'\n",
        "add_string = \"of\"\n",
        "print(\"The original string: \" + test_string)\n",
        "print(\"The add string: \" + add_string)\n",
        "n = 5\n",
        "res = test_string[ :n] + add_string + test_string[n: ]\n",
        "print(\"the string after performing addition: \"+ str(res))"
      ],
      "metadata": {
        "colab": {
          "base_uri": "https://localhost:8080/"
        },
        "id": "8GMizdi0gpqi",
        "outputId": "7702b9b3-c64a-476f-bd4f-4d5c2f620929"
      },
      "execution_count": null,
      "outputs": [
        {
          "output_type": "stream",
          "name": "stdout",
          "text": [
            "The original string: Best  Luck\n",
            "The add string: of\n",
            "the string after performing addition: Best of Luck\n"
          ]
        }
      ]
    },
    {
      "cell_type": "code",
      "source": [
        "#50. Convert a CSV string to a list of lists\n",
        "\n",
        "def csv_string_to_list(csv_string):\n",
        "  lines = csv_string.split('/n')\n",
        "  result = []\n",
        "  for line in lines:\n",
        "    fields = line.split(',')\n",
        "    result.append(fields)\n",
        "  return result\n",
        "csv_data = \"Name,Age,Country\\nJohn,25,USA\\nAlice,30,Canada\\nBob,22,UK\"\n",
        "list_of_lists = csv_string_to_list(csv_data)\n",
        "for row in list_of_lists:\n",
        "  print(row)"
      ],
      "metadata": {
        "id": "PCILc9Rkg7Aw",
        "colab": {
          "base_uri": "https://localhost:8080/"
        },
        "outputId": "93cd7f1e-2f11-440f-8595-fde37e2ab820"
      },
      "execution_count": null,
      "outputs": [
        {
          "output_type": "stream",
          "name": "stdout",
          "text": [
            "['Name', 'Age', 'Country\\nJohn', '25', 'USA\\nAlice', '30', 'Canada\\nBob', '22', 'UK']\n"
          ]
        }
      ]
    },
    {
      "cell_type": "code",
      "source": [
        "#TOPIC: List Based Practice Problem"
      ],
      "metadata": {
        "id": "Ti6Cz48yi586"
      },
      "execution_count": null,
      "outputs": []
    },
    {
      "cell_type": "code",
      "source": [
        "#1. Create a list if integers from 1 to 10\n",
        "\n",
        "l = [1,2,3,4,5,6,7,8,9,10]\n",
        "print(l)"
      ],
      "metadata": {
        "id": "0SBVCjVI6UFe",
        "colab": {
          "base_uri": "https://localhost:8080/"
        },
        "outputId": "5bc1c98c-9101-4a01-cc84-5fc4d52e1867"
      },
      "execution_count": null,
      "outputs": [
        {
          "output_type": "stream",
          "name": "stdout",
          "text": [
            "[1, 2, 3, 4, 5, 6, 7, 8, 9, 10]\n"
          ]
        }
      ]
    },
    {
      "cell_type": "code",
      "source": [
        "#2. Find the length of the list without using a 'len()' funtion\n",
        "\n",
        "test_list = [1,2,4,6,8]\n",
        "print(\"The list is: \" + str(test_list))\n",
        "counter = 0\n",
        "for i in test_list:\n",
        "  counter = counter + 1\n",
        "print(\"Length of list is: \" + str(counter))"
      ],
      "metadata": {
        "colab": {
          "base_uri": "https://localhost:8080/"
        },
        "id": "uYqtotN46n16",
        "outputId": "2512bf38-492d-4345-e1a8-93674e309668"
      },
      "execution_count": null,
      "outputs": [
        {
          "output_type": "stream",
          "name": "stdout",
          "text": [
            "The list is: [1, 2, 4, 6, 8]\n",
            "Length of list is: 5\n"
          ]
        }
      ]
    },
    {
      "cell_type": "code",
      "source": [
        "#3. Append an element to the end of a list\n",
        "\n",
        "test_list = [1,2,4,6,8]\n",
        "test_list.append(10)\n",
        "print(test_list)"
      ],
      "metadata": {
        "id": "EWa8QFSj8oFT",
        "colab": {
          "base_uri": "https://localhost:8080/"
        },
        "outputId": "30b22fb4-1094-4e2a-932e-5372ef6cc0cd"
      },
      "execution_count": null,
      "outputs": [
        {
          "output_type": "stream",
          "name": "stdout",
          "text": [
            "[1, 2, 4, 6, 8, 10]\n"
          ]
        }
      ]
    },
    {
      "cell_type": "code",
      "source": [
        "#4. Insert an element at a specific index in a list\n",
        "\n",
        "test_list = [1,2,4,6,8,10]\n",
        "test_list.insert(2,\"even_no\")\n",
        "print(test_list)"
      ],
      "metadata": {
        "id": "NSx3Oq909iKT",
        "colab": {
          "base_uri": "https://localhost:8080/"
        },
        "outputId": "cb970d64-f3a9-498b-f4be-88cb7221fc58"
      },
      "execution_count": null,
      "outputs": [
        {
          "output_type": "stream",
          "name": "stdout",
          "text": [
            "[1, 2, 'even_no', 4, 6, 8, 10]\n"
          ]
        }
      ]
    },
    {
      "cell_type": "code",
      "source": [
        "#5. Remove an element from a list by its value\n",
        "\n",
        "test_list = [1,2,4,6,8,10]\n",
        "test_list.pop(2)"
      ],
      "metadata": {
        "colab": {
          "base_uri": "https://localhost:8080/"
        },
        "id": "cTnGqvEM-i84",
        "outputId": "c12ddc70-dad1-42a0-f106-27c825b065cd"
      },
      "execution_count": null,
      "outputs": [
        {
          "output_type": "execute_result",
          "data": {
            "text/plain": [
              "4"
            ]
          },
          "metadata": {},
          "execution_count": 16
        }
      ]
    },
    {
      "cell_type": "code",
      "source": [
        "#6. Remove an element from a list by its index\n",
        "\n",
        "test_list = [1,2,4,6,8,10]\n",
        "test_list.pop(2)"
      ],
      "metadata": {
        "id": "AA72GVLICQn9",
        "colab": {
          "base_uri": "https://localhost:8080/"
        },
        "outputId": "1a462d7a-e885-43c7-8f22-3656c897174e"
      },
      "execution_count": null,
      "outputs": [
        {
          "output_type": "execute_result",
          "data": {
            "text/plain": [
              "4"
            ]
          },
          "metadata": {},
          "execution_count": 1
        }
      ]
    },
    {
      "cell_type": "code",
      "source": [
        "#7. Check if an element exists in a list\n",
        "\n",
        "lst = [3,5,7,9,11]\n",
        "i = 2\n",
        "if i in lst:\n",
        "  print(\"exist\")\n",
        "else:\n",
        "  print(\"doestn't exist\")"
      ],
      "metadata": {
        "id": "maIYj93CE_5k",
        "colab": {
          "base_uri": "https://localhost:8080/"
        },
        "outputId": "b0edfd84-3000-46c2-93ca-d0991b5b2fdd"
      },
      "execution_count": null,
      "outputs": [
        {
          "output_type": "stream",
          "name": "stdout",
          "text": [
            "doestn't exist\n"
          ]
        }
      ]
    },
    {
      "cell_type": "code",
      "source": [
        "#8. Find the index of the first occurrence of an element in a list\n",
        "\n",
        "lst = [3,5,7,9,11]\n",
        "lst.index(5)"
      ],
      "metadata": {
        "id": "hudDuXhmFJX5",
        "colab": {
          "base_uri": "https://localhost:8080/"
        },
        "outputId": "7147afb6-e07d-4e41-fde6-4fbae1f5e68e"
      },
      "execution_count": null,
      "outputs": [
        {
          "output_type": "execute_result",
          "data": {
            "text/plain": [
              "1"
            ]
          },
          "metadata": {},
          "execution_count": 6
        }
      ]
    },
    {
      "cell_type": "code",
      "source": [
        "#9. Count the occurence of the element in a list\n",
        "\n",
        "l1 = [3,5,7,9,11,3,3,3,8,9,11,11,5,5,5,5]\n",
        "ele = 3\n",
        "x = [i for i in l1 if i == ele]\n",
        "print(\"the element\" , ele , \"occurs\" , len(x) , \"times\")"
      ],
      "metadata": {
        "id": "rhZKObSBFbjc",
        "colab": {
          "base_uri": "https://localhost:8080/"
        },
        "outputId": "0ba79931-018e-4ea9-c495-c847fd0823fa"
      },
      "execution_count": null,
      "outputs": [
        {
          "output_type": "stream",
          "name": "stdout",
          "text": [
            "the element 3 occurs 4 times\n"
          ]
        }
      ]
    },
    {
      "cell_type": "code",
      "source": [
        "#10. Reverse the order of elements in a list\n",
        "\n",
        "lst = [3,5,7,9,11,\"sanyogita\",\"singh\"]\n",
        "lst.reverse()\n",
        "print(lst)"
      ],
      "metadata": {
        "id": "UATKjHA6F5cl",
        "colab": {
          "base_uri": "https://localhost:8080/"
        },
        "outputId": "672245c4-b057-417a-ed34-1dd126722788"
      },
      "execution_count": null,
      "outputs": [
        {
          "output_type": "stream",
          "name": "stdout",
          "text": [
            "['singh', 'sanyogita', 11, 9, 7, 5, 3]\n"
          ]
        }
      ]
    },
    {
      "cell_type": "code",
      "source": [
        "#.11 Sort a list in ascending order\n",
        "\n",
        "lst = [5,9,1,7,3,0,6,2,9]\n",
        "lst.sort()\n",
        "print(lst)"
      ],
      "metadata": {
        "id": "Z1a_PM26GD0p",
        "colab": {
          "base_uri": "https://localhost:8080/"
        },
        "outputId": "24070e25-f529-447f-9424-fc8daa28dece"
      },
      "execution_count": null,
      "outputs": [
        {
          "output_type": "stream",
          "name": "stdout",
          "text": [
            "[0, 1, 2, 3, 5, 6, 7, 9, 9]\n"
          ]
        }
      ]
    },
    {
      "cell_type": "code",
      "source": [
        "#12. Sort a list in descending order\n",
        "\n",
        "lst = [5,9,1,7,3,0,6,2,9]\n",
        "lst.sort(reverse = True)\n",
        "print(lst)"
      ],
      "metadata": {
        "id": "kAbYsq3lGPRa",
        "colab": {
          "base_uri": "https://localhost:8080/"
        },
        "outputId": "3591e522-749a-4502-a8bb-7b55fb614b50"
      },
      "execution_count": null,
      "outputs": [
        {
          "output_type": "stream",
          "name": "stdout",
          "text": [
            "[9, 9, 7, 6, 5, 3, 2, 1, 0]\n"
          ]
        }
      ]
    },
    {
      "cell_type": "code",
      "source": [
        "#13. Create a list of even numbers from 1-20\n",
        "\n",
        "lst = [1,2,3,4,5,6,7,8,9,10,11,12,13,14,15,16,17,18,19,20]\n",
        "for i in lst:\n",
        "  if i% 2 == 0:\n",
        "    print(i, end=\" \")"
      ],
      "metadata": {
        "id": "nP5hTym-GUkv",
        "colab": {
          "base_uri": "https://localhost:8080/"
        },
        "outputId": "01bbf05d-6881-44e0-8012-30d57ca7cf58"
      },
      "execution_count": null,
      "outputs": [
        {
          "output_type": "stream",
          "name": "stdout",
          "text": [
            "2 4 6 8 10 12 14 16 18 20 "
          ]
        }
      ]
    },
    {
      "cell_type": "code",
      "source": [
        "#14. Create a list of odd numbers from 1-20\n",
        "\n",
        "lst = [1,2,3,4,5,6,7,8,9,10,11,12,13,14,15,16,17,18,19,20]\n",
        "for i in lst:\n",
        "  if i% 2 == 0:\n",
        "    pass\n",
        "  else:\n",
        "   print(i , end=\" \")"
      ],
      "metadata": {
        "id": "gVHpPOfmGjkm",
        "colab": {
          "base_uri": "https://localhost:8080/"
        },
        "outputId": "63d4dc6b-dc32-42f1-e47c-f6d6a7be907c"
      },
      "execution_count": null,
      "outputs": [
        {
          "output_type": "stream",
          "name": "stdout",
          "text": [
            "1 3 5 7 9 11 13 15 17 19 "
          ]
        }
      ]
    },
    {
      "cell_type": "code",
      "source": [
        "#15. Find the sum of all elements in a list\n",
        "\n",
        "lst = [2,4,6,8,10,12,14,16]\n",
        "def sumoflist(list, size):\n",
        " if(size == 0):\n",
        "  return 0\n",
        " else:\n",
        "  return list[size - 1] + sumoflist(list, size - 1)\n",
        "total = sumoflist(lst, len(lst))\n",
        "print(\"Sum of all elements ingiven list: \" , total)"
      ],
      "metadata": {
        "id": "oYO0TMlWGqy8",
        "colab": {
          "base_uri": "https://localhost:8080/"
        },
        "outputId": "16030095-5dc6-4383-8d83-0776c8af20b7"
      },
      "execution_count": null,
      "outputs": [
        {
          "output_type": "stream",
          "name": "stdout",
          "text": [
            "Sum of all elements ingiven list:  72\n"
          ]
        }
      ]
    },
    {
      "cell_type": "code",
      "source": [
        "#16. Find the max value in a list\n",
        "\n",
        "l2 = [5,23,76,94,65,22,58]\n",
        "max(l2)"
      ],
      "metadata": {
        "id": "2Ne9bbnMG4yD",
        "colab": {
          "base_uri": "https://localhost:8080/"
        },
        "outputId": "cdc4fac3-4786-4ad4-ccd3-c117eec1e8ec"
      },
      "execution_count": null,
      "outputs": [
        {
          "output_type": "execute_result",
          "data": {
            "text/plain": [
              "94"
            ]
          },
          "metadata": {},
          "execution_count": 45
        }
      ]
    },
    {
      "cell_type": "code",
      "source": [
        "#17. Find the min value in a list\n",
        "\n",
        "l2 = [5,23,76,94,65,22,58]\n",
        "min(l2)"
      ],
      "metadata": {
        "id": "OP_o1gY2G_1P",
        "colab": {
          "base_uri": "https://localhost:8080/"
        },
        "outputId": "abb83962-0d12-4d98-861e-9520cfeeb6dd"
      },
      "execution_count": null,
      "outputs": [
        {
          "output_type": "execute_result",
          "data": {
            "text/plain": [
              "5"
            ]
          },
          "metadata": {},
          "execution_count": 46
        }
      ]
    },
    {
      "cell_type": "code",
      "source": [
        "#18. Create a list of squares of numbers from 1-20\n",
        "\n",
        "l2 = [1,2,3,4,5,6,7,8,9,10,11,12,13,14,15,16,17,18,19,20]\n",
        "import math\n",
        "result = [int(math.pow(i,2)) for i in l2]\n",
        "print(result)"
      ],
      "metadata": {
        "id": "2h3HGDRFHIgb",
        "colab": {
          "base_uri": "https://localhost:8080/"
        },
        "outputId": "9d77e45e-703c-4d12-c938-df81bad34a77"
      },
      "execution_count": null,
      "outputs": [
        {
          "output_type": "stream",
          "name": "stdout",
          "text": [
            "[1, 4, 9, 16, 25, 36, 49, 64, 81, 100, 121, 144, 169, 196, 225, 256, 289, 324, 361, 400]\n"
          ]
        }
      ]
    },
    {
      "cell_type": "code",
      "source": [
        "#19. Create a list of random numbers\n",
        "\n",
        "import random\n",
        "res = [random.randrange(1,50,1) for i in range(7)]\n",
        "print(\"Random number list is: \" + str(res))"
      ],
      "metadata": {
        "id": "FiuzhSZ8HNJH",
        "colab": {
          "base_uri": "https://localhost:8080/"
        },
        "outputId": "d884d29d-b1f4-4c90-bc0b-f5d6fda88237"
      },
      "execution_count": null,
      "outputs": [
        {
          "output_type": "stream",
          "name": "stdout",
          "text": [
            "Random number list is: [39, 20, 28, 48, 46, 13, 3]\n"
          ]
        }
      ]
    },
    {
      "cell_type": "code",
      "source": [
        "#20. Remove duplicates from a list\n",
        "\n",
        "l2 = [4,6,2,8,5,6,2,9,6,4,2]\n",
        "list(set(l2))"
      ],
      "metadata": {
        "id": "na_9p8x2HXu7",
        "colab": {
          "base_uri": "https://localhost:8080/"
        },
        "outputId": "7a49e29d-d2f8-4ae2-a74e-50380a75b2e2"
      },
      "execution_count": null,
      "outputs": [
        {
          "output_type": "execute_result",
          "data": {
            "text/plain": [
              "[2, 4, 5, 6, 8, 9]"
            ]
          },
          "metadata": {},
          "execution_count": 57
        }
      ]
    },
    {
      "cell_type": "code",
      "source": [
        "#21. Find the common elements between two lists\n",
        "\n",
        "def intersection_list(list1, list2):\n",
        " list3 = [value for value in list1 if value in list2]\n",
        " return list3\n",
        "\n",
        "list1 = [12,13,14,15,16,17,18,19]\n",
        "list2 = [19,20,21,22,23,24,25,26]\n",
        "print(intersection_list(list1,list2))"
      ],
      "metadata": {
        "id": "EDqTeTQAHe3n",
        "colab": {
          "base_uri": "https://localhost:8080/"
        },
        "outputId": "bc011bd7-aa90-405e-92b2-ffe12e077c78"
      },
      "execution_count": null,
      "outputs": [
        {
          "output_type": "stream",
          "name": "stdout",
          "text": [
            "[19]\n"
          ]
        }
      ]
    },
    {
      "cell_type": "code",
      "source": [
        "#22. Find The difference between two lists\n",
        "\n",
        "list1 = [10,20,30,40,50,60]\n",
        "list2 = [70,80,90,100]\n",
        "temp3 = []\n",
        "for element in list1:\n",
        "   if element not in list2:\n",
        "     temp3.append(element)\n",
        "print(temp3)"
      ],
      "metadata": {
        "id": "zE8Q4WitHpe5",
        "colab": {
          "base_uri": "https://localhost:8080/"
        },
        "outputId": "7dcb5bde-5cd3-4503-ffe4-266dae722cda"
      },
      "execution_count": null,
      "outputs": [
        {
          "output_type": "stream",
          "name": "stdout",
          "text": [
            "[10, 20, 30, 40, 50, 60]\n"
          ]
        }
      ]
    },
    {
      "cell_type": "code",
      "source": [
        "#23. Merge two lists\n",
        "\n",
        "list1 = [10,20,30,40,50,60]\n",
        "list2 = [70,80,90,100]\n",
        "list1.extend(list2)\n",
        "print(list1)"
      ],
      "metadata": {
        "id": "JrMTpvSBH0ia",
        "colab": {
          "base_uri": "https://localhost:8080/"
        },
        "outputId": "e38e5f3a-0dcc-432c-a450-9e4c21efc2b2"
      },
      "execution_count": null,
      "outputs": [
        {
          "output_type": "stream",
          "name": "stdout",
          "text": [
            "[10, 20, 30, 40, 50, 60, 70, 80, 90, 100]\n"
          ]
        }
      ]
    },
    {
      "cell_type": "code",
      "source": [
        "#24. Multiply all elements in a list by 2\n",
        "\n",
        "list1 = [1,2,3,4,5,6,7]\n",
        "list2 = [i * 2 for i in list1]\n",
        "print(list2)"
      ],
      "metadata": {
        "id": "VwkTcf4OH6s1",
        "colab": {
          "base_uri": "https://localhost:8080/"
        },
        "outputId": "de7d4088-3686-4847-ad35-0e573f1c1c00"
      },
      "execution_count": null,
      "outputs": [
        {
          "output_type": "stream",
          "name": "stdout",
          "text": [
            "[2, 4, 6, 8, 10, 12, 14]\n"
          ]
        }
      ]
    },
    {
      "cell_type": "code",
      "source": [
        "#25. Filter out all even numbers from a list\n",
        "\n",
        "list1 = [1,2,3,4,5,6,7,8,9,10]\n",
        "list2 = [i for i in list1 if i % 2 == 0]\n",
        "print(list2)"
      ],
      "metadata": {
        "id": "2Z1xZN9KIENy",
        "colab": {
          "base_uri": "https://localhost:8080/"
        },
        "outputId": "2f38220d-5993-4213-e163-cf30fa942f3e"
      },
      "execution_count": null,
      "outputs": [
        {
          "output_type": "stream",
          "name": "stdout",
          "text": [
            "[2, 4, 6, 8, 10]\n"
          ]
        }
      ]
    },
    {
      "cell_type": "code",
      "source": [
        "#26. Convert a list of strings to a list of integers\n",
        "\n",
        "list3 = ['4','7','3','9','5','3','2','9']\n",
        "res = [eval(i) for i in list3]\n",
        "print(\"list of integers: \" , res)"
      ],
      "metadata": {
        "id": "0xWP-VxEIM20",
        "colab": {
          "base_uri": "https://localhost:8080/"
        },
        "outputId": "ab028e27-920c-46bf-fcc8-fd047c98ba18"
      },
      "execution_count": null,
      "outputs": [
        {
          "output_type": "stream",
          "name": "stdout",
          "text": [
            "list of integers:  [4, 7, 3, 9, 5, 3, 2, 9]\n"
          ]
        }
      ]
    },
    {
      "cell_type": "code",
      "source": [
        "#27. Convert a list of integers to a list of strings\n",
        "\n",
        "list3 = [4,7,3,9,5,3,2,9]\n",
        "list4 = [str(x) for x in list3]\n",
        "print(list4)"
      ],
      "metadata": {
        "id": "c5n2g1MgIVMB",
        "colab": {
          "base_uri": "https://localhost:8080/"
        },
        "outputId": "babb73bc-691a-4ece-e5a4-e4096d21ac2d"
      },
      "execution_count": null,
      "outputs": [
        {
          "output_type": "stream",
          "name": "stdout",
          "text": [
            "['4', '7', '3', '9', '5', '3', '2', '9']\n"
          ]
        }
      ]
    },
    {
      "cell_type": "code",
      "source": [
        "#28. Flatten a nested list\n",
        "\n",
        "l = [[11,22,33,44],[55,66,77,88],[99,110,111]]\n",
        "flatlist = sum(l,[])\n",
        "print('New list' , flatlist)"
      ],
      "metadata": {
        "id": "j_zgq8ncIfzy",
        "colab": {
          "base_uri": "https://localhost:8080/"
        },
        "outputId": "137c42d8-6453-4a0e-c22b-d893a1f423bb"
      },
      "execution_count": null,
      "outputs": [
        {
          "output_type": "stream",
          "name": "stdout",
          "text": [
            "New list [11, 22, 33, 44, 55, 66, 77, 88, 99, 110, 111]\n"
          ]
        }
      ]
    },
    {
      "cell_type": "code",
      "source": [
        "#29. Create a list of the first 10 fibonacci numbers\n",
        "\n",
        "def fibonacci(n):\n",
        "  if(n <= 1):\n",
        "    return n\n",
        "  else:\n",
        "    return(fibonacci(n-1) + fibonacci(n-2))\n",
        "n = int(input(\"Enter number of terms: \"))\n",
        "print(\"Fibonacci sequence: \")\n",
        "for i in range(9):\n",
        "  print(fibonacci(i))"
      ],
      "metadata": {
        "id": "q0O5UuOCIo5m",
        "colab": {
          "base_uri": "https://localhost:8080/"
        },
        "outputId": "c1690a3b-890c-466a-e605-29f155f9930a"
      },
      "execution_count": null,
      "outputs": [
        {
          "output_type": "stream",
          "name": "stdout",
          "text": [
            "Enter number of terms: 7\n",
            "Fibonacci sequence: \n",
            "0\n",
            "1\n",
            "1\n",
            "2\n",
            "3\n",
            "5\n",
            "8\n",
            "13\n",
            "21\n"
          ]
        }
      ]
    },
    {
      "cell_type": "code",
      "source": [
        "#30. Check if a list is sorted\n",
        "\n",
        "list = [1,2,3,4,5,6,7,8,9]\n",
        "print(\"Original list: \" + str(list))\n",
        "flag = 0\n",
        "if(list == sorted(list)):\n",
        "  flag = 1\n",
        "  if(flag):\n",
        "    print(\"Yes,List is sorted.\")\n",
        "  else:\n",
        "    print(\"No,List is not sorted.\")"
      ],
      "metadata": {
        "id": "FNCiixlVI1pv",
        "colab": {
          "base_uri": "https://localhost:8080/"
        },
        "outputId": "ebe32eb6-b72c-4eb8-8a92-c610a6a3818a"
      },
      "execution_count": null,
      "outputs": [
        {
          "output_type": "stream",
          "name": "stdout",
          "text": [
            "Original list: [1, 2, 3, 4, 5, 6, 7, 8, 9]\n",
            "Yes,List is sorted.\n"
          ]
        }
      ]
    },
    {
      "cell_type": "code",
      "source": [
        "#31. Rotate a list to the left by'n'\n",
        "\n",
        "l = [3,5,7,9,11,13,15]\n",
        "l = l[4: ] + l[ :4]\n",
        "print(\"List after left rotate by 4: \" + str(l))"
      ],
      "metadata": {
        "id": "IGcjhKuVI6mk",
        "colab": {
          "base_uri": "https://localhost:8080/"
        },
        "outputId": "fce134c3-a256-4e30-c817-0497d2a8ebd0"
      },
      "execution_count": null,
      "outputs": [
        {
          "output_type": "stream",
          "name": "stdout",
          "text": [
            "List after left rotate by 4: [11, 13, 15, 3, 5, 7, 9]\n"
          ]
        }
      ]
    },
    {
      "cell_type": "code",
      "source": [
        "#32. Rotate a list to the right by 'n' positions\n",
        "\n",
        "l = [11,13,15,3,5,7,9]\n",
        "l = l[-3: ] + l[ :-3]\n",
        "print(\"List after right rotate by 3(back to original): \" + str(l))"
      ],
      "metadata": {
        "id": "odjAU50jJGzN",
        "colab": {
          "base_uri": "https://localhost:8080/"
        },
        "outputId": "164cfa8d-ce45-4158-ede9-a27ebe926998"
      },
      "execution_count": null,
      "outputs": [
        {
          "output_type": "stream",
          "name": "stdout",
          "text": [
            "List after right rotate by 3(back to original): [5, 7, 9, 11, 13, 15, 3]\n"
          ]
        }
      ]
    },
    {
      "cell_type": "code",
      "source": [
        "#33. Create a list of prime numbers\n",
        "\n",
        "def is_primt(num):\n",
        "  if num <= 1:\n",
        "    return False\n",
        "  if num <= 3:\n",
        "    return True\n",
        "  if num % 2 == 0 or num % 3 ==0:\n",
        "    return False\n",
        "  i = 5\n",
        "  while i * i <= num:\n",
        "    print(i,num)\n",
        "    if num % i == 0 or num %(i + 2) == 0:\n",
        "      return False\n",
        "    i += 6\n",
        "  return True\n",
        "prime_numbers = [num for num in range(2,30) if is_prime(num)]\n",
        "print(\"List of prime numbers up to 50:\" , prime_numbers)"
      ],
      "metadata": {
        "id": "Zy93l1szJUSt",
        "colab": {
          "base_uri": "https://localhost:8080/"
        },
        "outputId": "768b5e3a-3fb5-4a48-c7eb-8578dedf34a6"
      },
      "execution_count": null,
      "outputs": [
        {
          "output_type": "stream",
          "name": "stdout",
          "text": [
            "List of prime numbers up to 50: [2, 3]\n"
          ]
        }
      ]
    },
    {
      "cell_type": "code",
      "source": [
        "#34. Split a list into chunks of size 'n'\n",
        "\n",
        "def sieve_of_eratosthenes(limit):\n",
        "  primes = []\n",
        "  is_prime = [True] * (limit + 1)\n",
        "  is_prime[0] = is_prime[1] = False\n",
        "\n",
        "  for num in range(2, int(limit ** 0.5) + 1):\n",
        "    if is_prime[num]:\n",
        "      primes.append(num)\n",
        "      for multiple in range(num * num, limit + 1, num):\n",
        "        is_prime[multiple] = False\n",
        "\n",
        "  for num in range(int(limit ** 0.5) + 1, limit + 1):\n",
        "    if is_prime[num]:\n",
        "      primes.append(num)\n",
        "  return primes\n",
        "prime_numbers = sieve_of_eratosthenes(50)\n",
        "print(\"List of prime numbers up to 50:\", prime_numbers)\n"
      ],
      "metadata": {
        "id": "-cClCNBpJepx",
        "colab": {
          "base_uri": "https://localhost:8080/"
        },
        "outputId": "2929ba74-0044-4c78-e512-5849679c68d2"
      },
      "execution_count": null,
      "outputs": [
        {
          "output_type": "stream",
          "name": "stdout",
          "text": [
            "List of prime numbers up to 50: [2, 3, 5, 7, 11, 13, 17, 19, 23, 29, 31, 37, 41, 43, 47]\n"
          ]
        }
      ]
    },
    {
      "cell_type": "code",
      "source": [
        "#35. Find the second largest number in a list\n",
        "\n",
        "my_list = [10,5,20,15,30,25]\n",
        "sorted_list = sorted(set(my_list))\n",
        "if len(sorted_list) >= 2:\n",
        "  second_largest = sorted_list[-2]\n",
        "  print(\"Second largest number:\" , second_largest)\n",
        "else:\n",
        "  print(\"The list does not contain enough elements\")"
      ],
      "metadata": {
        "id": "J7RqbbYJJnEM",
        "colab": {
          "base_uri": "https://localhost:8080/"
        },
        "outputId": "8051aa58-458e-40b1-acf8-4fcc7fea0ce0"
      },
      "execution_count": null,
      "outputs": [
        {
          "output_type": "stream",
          "name": "stdout",
          "text": [
            "Second largest number: 25\n"
          ]
        }
      ]
    },
    {
      "cell_type": "code",
      "source": [
        "#36. Replace every element in a list with its square\n",
        "\n",
        "my_list = [2,4,6,8,10]\n",
        "squared_list = [x ** 2 for x in my_list]\n",
        "print(\"Squared list:\" , squared_list)"
      ],
      "metadata": {
        "id": "bfLnYdgvJtQv",
        "colab": {
          "base_uri": "https://localhost:8080/"
        },
        "outputId": "d0f1dee7-281a-40cf-b100-62f4e4e75a7c"
      },
      "execution_count": null,
      "outputs": [
        {
          "output_type": "stream",
          "name": "stdout",
          "text": [
            "Squared list: [4, 16, 36, 64, 100]\n"
          ]
        }
      ]
    },
    {
      "cell_type": "code",
      "source": [
        "#37. Convert a list to a dictonary where list elements become keys and their indices become values\n",
        "\n",
        "my_list = ['apple','banana','blueberry','guava']\n",
        "my_dict = {element: index for index, element in enumerate(my_list)}\n",
        "print(\"Converted dictionary:\" , my_dict)"
      ],
      "metadata": {
        "id": "XMuwx6HnJ9-P",
        "colab": {
          "base_uri": "https://localhost:8080/"
        },
        "outputId": "8ee12a52-bc4d-4b1d-fb85-9d8613d66831"
      },
      "execution_count": null,
      "outputs": [
        {
          "output_type": "stream",
          "name": "stdout",
          "text": [
            "Converted dictionary: {'apple': 0, 'banana': 1, 'blueberry': 2, 'guava': 3}\n"
          ]
        }
      ]
    },
    {
      "cell_type": "code",
      "source": [
        "#38. Shuffle the elements of a list randomly\n",
        "\n",
        "my_list = [1,2,3,4,5,6,7,8,9,10]\n",
        "random.shuffle(my_list)\n",
        "print(\"Shuffled list:\" , my_list)"
      ],
      "metadata": {
        "id": "flxTDQkcKQi1",
        "colab": {
          "base_uri": "https://localhost:8080/"
        },
        "outputId": "bbb602a0-7246-41ec-fe7f-d2285a9eb238"
      },
      "execution_count": null,
      "outputs": [
        {
          "output_type": "stream",
          "name": "stdout",
          "text": [
            "Shuffled list: [5, 4, 7, 1, 9, 8, 2, 10, 6, 3]\n"
          ]
        }
      ]
    },
    {
      "cell_type": "code",
      "source": [
        "#39. Create a list of the first 10 factorial numbers\n",
        "\n",
        "def factorial(n):\n",
        "  if n == 0 or n == 1:\n",
        "    return 1\n",
        "  else:\n",
        "    return n * factorial(n - 1)\n",
        "factorial_numbers = [factorial(i) for i in range(10)]\n",
        "print(\"List of th efirst 10 factorial numbers:\" , factorial_numbers)"
      ],
      "metadata": {
        "id": "raYNJlCmKY5j",
        "colab": {
          "base_uri": "https://localhost:8080/"
        },
        "outputId": "a2799d95-2570-4f8c-8024-9212281692bd"
      },
      "execution_count": null,
      "outputs": [
        {
          "output_type": "stream",
          "name": "stdout",
          "text": [
            "List of th efirst 10 factorial numbers: [1, 1, 2, 6, 24, 120, 720, 5040, 40320, 362880]\n"
          ]
        }
      ]
    },
    {
      "cell_type": "code",
      "source": [
        "#40. Check if two lists have atleast two element in a common\n",
        "\n",
        "def has_common_element(list1,list2):\n",
        "  for item in list1:\n",
        "    if item in list2:\n",
        "      return True\n",
        "  return False\n",
        "list1 = [1,2,3,4,5]\n",
        "list2 = [4,5,6,7,8]\n",
        "if has_common_element(list1,list2):\n",
        "  print(\"The lists have at least one common element\")\n",
        "else:\n",
        "  print(\"The lists do not have any elements in common\")"
      ],
      "metadata": {
        "id": "AnHUSIOkKjGk",
        "colab": {
          "base_uri": "https://localhost:8080/"
        },
        "outputId": "86262105-6a09-42ef-fd6a-c9d73040aac8"
      },
      "execution_count": null,
      "outputs": [
        {
          "output_type": "stream",
          "name": "stdout",
          "text": [
            "The lists have at least one common element\n"
          ]
        }
      ]
    },
    {
      "cell_type": "code",
      "source": [
        "#41. Remove all elements from a list\n",
        "\n",
        "list = [2,4,6,8,10,12]\n",
        "list.clear()\n",
        "print(\"List after clear: \" , list)"
      ],
      "metadata": {
        "id": "aFih8moiKu12",
        "colab": {
          "base_uri": "https://localhost:8080/"
        },
        "outputId": "e9792a0a-d4f8-4624-a6c8-341a59f912f1"
      },
      "execution_count": null,
      "outputs": [
        {
          "output_type": "stream",
          "name": "stdout",
          "text": [
            "List after clear:  []\n"
          ]
        }
      ]
    },
    {
      "cell_type": "code",
      "source": [
        "#42. Replace all negative numbers in a list with 0\n",
        "\n",
        "import numpy as np\n",
        "ini_array1 = np.array([1,2,-3,4,-5,-6])\n",
        "print(\"initial array\" , ini_array1)\n",
        "ini_array1 [ini_array1 < 0] = 0\n",
        "print(\"New resulting array: \" , ini_array1)"
      ],
      "metadata": {
        "id": "PA7uuROFK1Gi",
        "colab": {
          "base_uri": "https://localhost:8080/"
        },
        "outputId": "1ed624a9-c47e-4049-e40a-2637fc363636"
      },
      "execution_count": null,
      "outputs": [
        {
          "output_type": "stream",
          "name": "stdout",
          "text": [
            "initial array [ 1  2 -3  4 -5 -6]\n",
            "New resulting array:  [1 2 0 4 0 0]\n"
          ]
        }
      ]
    },
    {
      "cell_type": "code",
      "source": [
        "#43. Convert a string into a list of words\n",
        "\n",
        "s = \"Slow and steady wins the race\"\n",
        "x = [i for i in s]\n",
        "print(x)"
      ],
      "metadata": {
        "id": "Uv_OfjgkK-hM",
        "colab": {
          "base_uri": "https://localhost:8080/"
        },
        "outputId": "94c9a26a-6841-4d08-f1ed-12629c3c496e"
      },
      "execution_count": null,
      "outputs": [
        {
          "output_type": "stream",
          "name": "stdout",
          "text": [
            "['S', 'l', 'o', 'w', ' ', 'a', 'n', 'd', ' ', 's', 't', 'e', 'a', 'd', 'y', ' ', 'w', 'i', 'n', 's', ' ', 't', 'h', 'e', ' ', 'r', 'a', 'c', 'e']\n"
          ]
        }
      ]
    },
    {
      "cell_type": "code",
      "source": [
        "#44. Convert a list of words into a string\n",
        "\n",
        "word_list = [\"Hello,\",\"how\",\"are\",\"you?\"]\n",
        "my_string = \" \".join(word_list)\n",
        "print(\"Converted string:\" , my_string)"
      ],
      "metadata": {
        "id": "qU04PWSoLG1w",
        "colab": {
          "base_uri": "https://localhost:8080/"
        },
        "outputId": "e5d7284f-2d4e-4e14-db31-75fec2286980"
      },
      "execution_count": null,
      "outputs": [
        {
          "output_type": "stream",
          "name": "stdout",
          "text": [
            "Converted string: Hello, how are you?\n"
          ]
        }
      ]
    },
    {
      "cell_type": "code",
      "source": [
        "#45. Create a list of the list 'n' powers of 2\n",
        "\n",
        "n = 5\n",
        "power_list = [2 ** i for i in range(n)]\n",
        "print(\"List of the first\" , n,\"powers of 2:\" , power_list)"
      ],
      "metadata": {
        "id": "-ePeayWXLTEJ",
        "colab": {
          "base_uri": "https://localhost:8080/"
        },
        "outputId": "957e99e8-e269-4c5c-c89d-11a549c78746"
      },
      "execution_count": null,
      "outputs": [
        {
          "output_type": "stream",
          "name": "stdout",
          "text": [
            "List of the first 5 powers of 2: [1, 2, 4, 8, 16]\n"
          ]
        }
      ]
    },
    {
      "cell_type": "code",
      "source": [
        "#46. Find the longest string in a list of strings\n",
        "\n",
        "list = ['keep','calm','and','confident']\n",
        "res = max(len(i) for i in list)\n",
        "print(\"Length of minimum string: \" + str(res))"
      ],
      "metadata": {
        "id": "1NfxgZnULceT",
        "colab": {
          "base_uri": "https://localhost:8080/"
        },
        "outputId": "9d2b1dae-f9c7-48d1-e9a7-463a69c7ba1e"
      },
      "execution_count": null,
      "outputs": [
        {
          "output_type": "stream",
          "name": "stdout",
          "text": [
            "Length of minimum string: 9\n"
          ]
        }
      ]
    },
    {
      "cell_type": "code",
      "source": [
        "#47. Find the shortest string in a list of strings\n",
        "\n",
        "list = ['keep','calm','and','confident']\n",
        "res = min(len(i) for i in list)\n",
        "print(\"Length of minimum string: \" + str(res))"
      ],
      "metadata": {
        "id": "IBS0ZiEFLnRN",
        "colab": {
          "base_uri": "https://localhost:8080/"
        },
        "outputId": "08e470fe-7bb9-468a-945c-12256f45b92c"
      },
      "execution_count": null,
      "outputs": [
        {
          "output_type": "stream",
          "name": "stdout",
          "text": [
            "Length of minimum string: 3\n"
          ]
        }
      ]
    },
    {
      "cell_type": "code",
      "source": [
        "#48. Create a list of the first 'n' triangular numbers\n",
        "\n",
        "def triangular_series(n):\n",
        " for i in range(1, n +1):\n",
        "    print(i*(i+1)//2,end = ' ')\n",
        "n = 5\n",
        "triangular_series(n)"
      ],
      "metadata": {
        "id": "zsie_NOuLxhv",
        "colab": {
          "base_uri": "https://localhost:8080/"
        },
        "outputId": "0fc0f6ec-b779-4ecc-feee-3a4a1842e854"
      },
      "execution_count": null,
      "outputs": [
        {
          "output_type": "stream",
          "name": "stdout",
          "text": [
            "1 3 6 10 15 "
          ]
        }
      ]
    },
    {
      "cell_type": "code",
      "source": [
        "#49. Check if a list contains another list as a subsequence\n",
        "\n",
        "lst = [[1,5,7],[2,3,4],[3,6,9]]\n",
        "check_list = [2,3,4]\n",
        "if check_list in lst:\n",
        "  print(\"List is present\")\n",
        "else:\n",
        "  print(\"List is not present\")"
      ],
      "metadata": {
        "id": "5HAeRFnnMF5t",
        "colab": {
          "base_uri": "https://localhost:8080/"
        },
        "outputId": "7464709a-86d6-434c-b735-f8676ff5188c"
      },
      "execution_count": null,
      "outputs": [
        {
          "output_type": "stream",
          "name": "stdout",
          "text": [
            "List is present\n"
          ]
        }
      ]
    },
    {
      "cell_type": "code",
      "source": [
        "#50. Swap two elements in a list by their indices\n",
        "\n",
        "def swapPositions(list, pos1, pos2):\n",
        "  list[pos1], list[pos2] = list[pos2] , list[pos1]\n",
        "  return list\n",
        "list = [23, 65, 19, 90]\n",
        "pos1, pos2 = 1,3\n",
        "print(swapPositions(list, pos1-1, pos2-1))"
      ],
      "metadata": {
        "id": "l54Tb35XMelw",
        "colab": {
          "base_uri": "https://localhost:8080/"
        },
        "outputId": "afd559f3-46f1-4b70-dd0b-9367a4bae03c"
      },
      "execution_count": null,
      "outputs": [
        {
          "output_type": "stream",
          "name": "stdout",
          "text": [
            "[19, 65, 23, 90]\n"
          ]
        }
      ]
    },
    {
      "cell_type": "code",
      "source": [
        "##TOPIC: Tuple Based Practice Questions"
      ],
      "metadata": {
        "id": "Vhl7dnjm1O3z"
      },
      "execution_count": null,
      "outputs": []
    },
    {
      "cell_type": "code",
      "source": [
        "#1. Create a tuple with integers from 1 to 5\n",
        "\n",
        "my_tuple = (10,20,30,40,50)\n",
        "third_element = my_tuple[2]\n",
        "print(\"The third element of the tuple is:\" , third_element)"
      ],
      "metadata": {
        "id": "RrTmog0Q1o-g",
        "colab": {
          "base_uri": "https://localhost:8080/"
        },
        "outputId": "d1701bb5-5377-4a31-c9a5-d3c67e33e170"
      },
      "execution_count": null,
      "outputs": [
        {
          "output_type": "stream",
          "name": "stdout",
          "text": [
            "The third element of the tuple is: 30\n"
          ]
        }
      ]
    },
    {
      "cell_type": "code",
      "source": [
        "#2. Access the third element of a tuple\n",
        "\n",
        "my_tuple = (10,20,30,40,50)\n",
        "third_element = my_tuple[2]\n",
        "print(\"The element of th tuple is:\" , third_element)"
      ],
      "metadata": {
        "id": "DYzn_4YN1z2S",
        "colab": {
          "base_uri": "https://localhost:8080/"
        },
        "outputId": "afda4bea-bf3b-4e01-a951-e32b7323613f"
      },
      "execution_count": null,
      "outputs": [
        {
          "output_type": "stream",
          "name": "stdout",
          "text": [
            "The element of th tuple is: 30\n"
          ]
        }
      ]
    },
    {
      "cell_type": "code",
      "source": [
        "#3. Find the length of a tuple without using the 'len()' function\n",
        "\n",
        "my_tuple = (10,20,30,40,50)\n",
        "count = 0\n",
        "for _ in my_tuple:\n",
        "  count += 1\n",
        "print(\"The length of the tuple is:\" , count)"
      ],
      "metadata": {
        "id": "ouL_bfei2H0S",
        "colab": {
          "base_uri": "https://localhost:8080/"
        },
        "outputId": "cd44298b-9868-4653-bde7-1ac94c62eee2"
      },
      "execution_count": null,
      "outputs": [
        {
          "output_type": "stream",
          "name": "stdout",
          "text": [
            "The length of the tuple is: 5\n"
          ]
        }
      ]
    },
    {
      "cell_type": "code",
      "source": [
        "#4. Count the occurences of an element in a tuple\n",
        "\n",
        "my_tuple = (10,20,30,40,50)\n",
        "element_to_count = 20\n",
        "count = 0\n",
        "for item in my_tuple:\n",
        "  if item == element_to_count:\n",
        "     count += 1\n",
        "print(\"The element {element_to_count} appears {count} times in the tuple\")"
      ],
      "metadata": {
        "id": "lPffd9Ai2e55",
        "colab": {
          "base_uri": "https://localhost:8080/"
        },
        "outputId": "454ceb80-2d13-40f1-b815-89e8e91e1f07"
      },
      "execution_count": null,
      "outputs": [
        {
          "output_type": "stream",
          "name": "stdout",
          "text": [
            "The element {element_to_count} appears {count} times in the tuple\n"
          ]
        }
      ]
    },
    {
      "cell_type": "code",
      "source": [
        "#5. Find the index of the first occurence of an element in a tuple\n",
        "\n",
        "my_tuple = (10,20,30,40,50)\n",
        "element_to_find = 20\n",
        "index = -1\n",
        "for i, item in enumerate(my_tuple):\n",
        "   if item == element_to_find:\n",
        "      index = i\n",
        "      break\n",
        "if index != -1:\n",
        "  print(f\"The first occurenceof {element_to_find} is at index {index}\")\n",
        "else:\n",
        "  print(f\"{element_to_find} is not found in the tuple\")"
      ],
      "metadata": {
        "id": "HsoAHjPy2le9",
        "colab": {
          "base_uri": "https://localhost:8080/"
        },
        "outputId": "4aca024d-a18e-4523-afc2-c4973b6afdfa"
      },
      "execution_count": null,
      "outputs": [
        {
          "output_type": "stream",
          "name": "stdout",
          "text": [
            "The first occurenceof 20 is at index 1\n"
          ]
        }
      ]
    },
    {
      "cell_type": "code",
      "source": [
        "#6. Check if an element exists in a tuple\n",
        "\n",
        "my_tuple = (10,20,30,40,50)\n",
        "element_to_check = 30\n",
        "if element_to_check in my_tuple:\n",
        "  print(f\"{element_to_check} exists in the tuple\")\n",
        "else:\n",
        " print(f\"{element_to_check} does not exists in the tuple\")"
      ],
      "metadata": {
        "id": "7SLqfbRv2wtf",
        "colab": {
          "base_uri": "https://localhost:8080/"
        },
        "outputId": "b4037613-01e5-487d-fe8a-85f1d8a6e982"
      },
      "execution_count": null,
      "outputs": [
        {
          "output_type": "stream",
          "name": "stdout",
          "text": [
            "30 exists in the tuple\n"
          ]
        }
      ]
    },
    {
      "cell_type": "code",
      "source": [
        "#7. Convert a tuple to a list\n",
        "\n",
        "my_tuple = (10,20,30,40,50)\n",
        "my_list = list(my_tuple)\n",
        "print(\"Tuple:\" , my_tuple)\n",
        "print(\"List:\" , my_list)"
      ],
      "metadata": {
        "id": "c7fY5jR723cL",
        "colab": {
          "base_uri": "https://localhost:8080/"
        },
        "outputId": "23fa5e99-2eb6-4368-e2cc-10cfb4247dfc"
      },
      "execution_count": null,
      "outputs": [
        {
          "output_type": "stream",
          "name": "stdout",
          "text": [
            "Tuple: (10, 20, 30, 40, 50)\n",
            "List: [10, 20, 30, 40, 50]\n"
          ]
        }
      ]
    },
    {
      "cell_type": "code",
      "source": [
        "#8. Convert a list to a tuple\n",
        "\n",
        "my_list = [10,20,30,40,50]\n",
        "my_tuple = tuple(my_list)\n",
        "print(\"List:\" , my_list)\n",
        "print(\"Tuple:\" ,  my_tuple)"
      ],
      "metadata": {
        "id": "d7ZiAwfc2-MS",
        "colab": {
          "base_uri": "https://localhost:8080/"
        },
        "outputId": "5781cf08-2e72-44f6-e3e8-da229e8227c5"
      },
      "execution_count": null,
      "outputs": [
        {
          "output_type": "stream",
          "name": "stdout",
          "text": [
            "List: [10, 20, 30, 40, 50]\n",
            "Tuple: (10, 20, 30, 40, 50)\n"
          ]
        }
      ]
    },
    {
      "cell_type": "code",
      "source": [
        "#9. Unpack the elements of a tuple into variables\n",
        "\n",
        "my_tuple = (10,20,30)\n",
        "var1, var2, var3 = my_tuple\n",
        "print(\"var1:\" , var1)\n",
        "print(\"var2:\" , var2)\n",
        "print(\"var3:\" , var3)"
      ],
      "metadata": {
        "id": "QZYvrJ3G3D6N",
        "colab": {
          "base_uri": "https://localhost:8080/"
        },
        "outputId": "5dfb7903-c89e-41c9-cc6f-dffa016ee28f"
      },
      "execution_count": null,
      "outputs": [
        {
          "output_type": "stream",
          "name": "stdout",
          "text": [
            "var1: 10\n",
            "var2: 20\n",
            "var3: 30\n"
          ]
        }
      ]
    },
    {
      "cell_type": "code",
      "source": [
        "#10. Create a tuple of even numbers from 1 to 10\n",
        "\n",
        "even_numbers_list = [num for num in range(2,11,2)]\n",
        "even_numbers_tuple = tuple(even_numbers_list)\n",
        "print(\"Tuple of even numbers:\" , even_numbers_tuple)"
      ],
      "metadata": {
        "id": "n3JwVuQV3Lb7",
        "colab": {
          "base_uri": "https://localhost:8080/"
        },
        "outputId": "1fb402b6-92f0-4962-b5fb-677f743e503a"
      },
      "execution_count": null,
      "outputs": [
        {
          "output_type": "stream",
          "name": "stdout",
          "text": [
            "Tuple of even numbers: (2, 4, 6, 8, 10)\n"
          ]
        }
      ]
    },
    {
      "cell_type": "code",
      "source": [
        "#11. Create a tuple of odd numbers from 1 to 10\n",
        "\n",
        "even_numbers_list = [num for num in range(2,11,2)]\n",
        "even_numbers_tuple = tuple(even_numbers_list)\n",
        "print(\"Tuple of even numbers:\" , even_numbers_tuple)"
      ],
      "metadata": {
        "id": "4tgqLxLs3Z9j",
        "colab": {
          "base_uri": "https://localhost:8080/"
        },
        "outputId": "a2aa96ab-ddca-406d-acd3-8092d7f1a2fa"
      },
      "execution_count": null,
      "outputs": [
        {
          "output_type": "stream",
          "name": "stdout",
          "text": [
            "Tuple of even numbers: (2, 4, 6, 8, 10)\n"
          ]
        }
      ]
    },
    {
      "cell_type": "code",
      "source": [
        "#12. Concatenate two tuples\n",
        "\n",
        "tuple1 = (1,2,3)\n",
        "tuple2 = (4,5,6)\n",
        "concatenated_tuple = tuple1 + tuple2\n",
        "print(\"Concatenated tuple:\" , concatenated_tuple)"
      ],
      "metadata": {
        "id": "3ENrd5l63luL",
        "colab": {
          "base_uri": "https://localhost:8080/"
        },
        "outputId": "766b6b16-fe0a-49a2-e4a6-aa21ccd9b6e8"
      },
      "execution_count": null,
      "outputs": [
        {
          "output_type": "stream",
          "name": "stdout",
          "text": [
            "Concatenated tuple: (1, 2, 3, 4, 5, 6)\n"
          ]
        }
      ]
    },
    {
      "cell_type": "code",
      "source": [
        "#13. Repeat a tuple 3 times\n",
        "\n",
        "original_tuple = (1,2,3)\n",
        "repeated_tuple = original_tuple * 3\n",
        "print(\"Repeated tuple:\" , repeated_tuple)"
      ],
      "metadata": {
        "id": "e7X_wcqk3qEI",
        "colab": {
          "base_uri": "https://localhost:8080/"
        },
        "outputId": "2da9f775-61d6-4869-f72a-aae0fb32a2f1"
      },
      "execution_count": null,
      "outputs": [
        {
          "output_type": "stream",
          "name": "stdout",
          "text": [
            "Repeated tuple: (1, 2, 3, 1, 2, 3, 1, 2, 3)\n"
          ]
        }
      ]
    },
    {
      "cell_type": "code",
      "source": [
        "#14. Check if a tuple is empty\n",
        "\n",
        "empty_tuple = ()\n",
        "non_empty_tuple = (1,2,3)\n",
        "if not empty_tuple:\n",
        "  print(\"The empty_tuple is empty\")\n",
        "else:\n",
        "  print(\"The empty_tuple is not empty\")\n",
        "if not non_empty_tuple:\n",
        "  print(\"The non_empty_tuple is empty\")\n",
        "else:\n",
        "  print(\"The non_empty_tuple is not empty\")"
      ],
      "metadata": {
        "id": "bKWmq7iF3w31",
        "colab": {
          "base_uri": "https://localhost:8080/"
        },
        "outputId": "5ac45625-463b-4a75-83fb-c5e3c3179eab"
      },
      "execution_count": null,
      "outputs": [
        {
          "output_type": "stream",
          "name": "stdout",
          "text": [
            "The empty_tuple is empty\n",
            "The non_empty_tuple is not empty\n"
          ]
        }
      ]
    },
    {
      "cell_type": "code",
      "source": [
        "#15. Create a nested tuple\n",
        "\n",
        "nested_tuple = ((1,2,3) , ('a','b','c') , (True,False,))\n",
        "print(\"Nested tuple:\" , nested_tuple)"
      ],
      "metadata": {
        "id": "j0ITPxRU32u5",
        "colab": {
          "base_uri": "https://localhost:8080/"
        },
        "outputId": "08ad7cfc-4685-417c-84cd-b6ce4efdf63f"
      },
      "execution_count": null,
      "outputs": [
        {
          "output_type": "stream",
          "name": "stdout",
          "text": [
            "Nested tuple: ((1, 2, 3), ('a', 'b', 'c'), (True, False))\n"
          ]
        }
      ]
    },
    {
      "cell_type": "code",
      "source": [
        "#16. Access the first element of a nested tuple\n",
        "\n",
        "nested_tuple = ((1,2,3) , ('a','b','c') , (True, False))\n",
        "first_element = nested_tuple[0]\n",
        "print(\"First element of the nested tuple:\" , first_element)"
      ],
      "metadata": {
        "id": "Uzm-w6ih3-Do",
        "colab": {
          "base_uri": "https://localhost:8080/"
        },
        "outputId": "c9607d9c-1d94-4875-e1d6-1c6e0371d592"
      },
      "execution_count": null,
      "outputs": [
        {
          "output_type": "stream",
          "name": "stdout",
          "text": [
            "First element of the nested tuple: (1, 2, 3)\n"
          ]
        }
      ]
    },
    {
      "cell_type": "code",
      "source": [
        "#17. Create a tuple with a single element\n",
        "\n",
        "single_element_tuple = (42,)\n",
        "print(\"Single element tuple:\" , single_element_tuple)"
      ],
      "metadata": {
        "id": "v9bte_rq4JZi",
        "colab": {
          "base_uri": "https://localhost:8080/"
        },
        "outputId": "135c5280-f1f5-4a8f-abea-20fe266dfc0f"
      },
      "execution_count": null,
      "outputs": [
        {
          "output_type": "stream",
          "name": "stdout",
          "text": [
            "Single element tuple: (42,)\n"
          ]
        }
      ]
    },
    {
      "cell_type": "code",
      "source": [
        "#18. Compare two tuples\n",
        "\n",
        "tuple1 = (1,2,3)\n",
        "tuple2 = (1,2,4)\n",
        "print(\"tuple1 == tuple2:\" , tuple1 == tuple2)\n",
        "print(\"tuple1 != tuple2:\" , tuple1 != tuple2)\n",
        "print(\"tuple1 < tuple2:\" , tuple1 < tuple2)\n",
        "print(\"tuple1 <= tuple2:\" , tuple1 <= tuple2)\n",
        "print(\"tuple1 > tuple2:\" , tuple1 > tuple2)\n",
        "print(\"tuple1 >= tuple2:\" , tuple1 >= tuple2)"
      ],
      "metadata": {
        "id": "Q7BX4lwV4V-Q",
        "colab": {
          "base_uri": "https://localhost:8080/"
        },
        "outputId": "6c23c102-1b75-4653-c481-32a970ae96fc"
      },
      "execution_count": null,
      "outputs": [
        {
          "output_type": "stream",
          "name": "stdout",
          "text": [
            "tuple1 == tuple2: False\n",
            "tuple1 != tuple2: True\n",
            "tuple1 < tuple2: True\n",
            "tuple1 <= tuple2: True\n",
            "tuple1 > tuple2: False\n",
            "tuple1 >= tuple2: False\n"
          ]
        }
      ]
    },
    {
      "cell_type": "code",
      "source": [
        "#19. Delete a tuple\n",
        "\n",
        "my_tuple = (1,2,3,4,5)\n",
        "del my_tuple\n",
        "print(my_tuple)"
      ],
      "metadata": {
        "id": "jp-pQAeu4agW",
        "colab": {
          "base_uri": "https://localhost:8080/",
          "height": 210
        },
        "outputId": "4021cf9b-7dbf-4d33-8a80-95aff83a75a4"
      },
      "execution_count": null,
      "outputs": [
        {
          "output_type": "error",
          "ename": "NameError",
          "evalue": "ignored",
          "traceback": [
            "\u001b[0;31m---------------------------------------------------------------------------\u001b[0m",
            "\u001b[0;31mNameError\u001b[0m                                 Traceback (most recent call last)",
            "\u001b[0;32m<ipython-input-30-f431344b9fca>\u001b[0m in \u001b[0;36m<cell line: 5>\u001b[0;34m()\u001b[0m\n\u001b[1;32m      3\u001b[0m \u001b[0mmy_tuple\u001b[0m \u001b[0;34m=\u001b[0m \u001b[0;34m(\u001b[0m\u001b[0;36m1\u001b[0m\u001b[0;34m,\u001b[0m\u001b[0;36m2\u001b[0m\u001b[0;34m,\u001b[0m\u001b[0;36m3\u001b[0m\u001b[0;34m,\u001b[0m\u001b[0;36m4\u001b[0m\u001b[0;34m,\u001b[0m\u001b[0;36m5\u001b[0m\u001b[0;34m)\u001b[0m\u001b[0;34m\u001b[0m\u001b[0;34m\u001b[0m\u001b[0m\n\u001b[1;32m      4\u001b[0m \u001b[0;32mdel\u001b[0m \u001b[0mmy_tuple\u001b[0m\u001b[0;34m\u001b[0m\u001b[0;34m\u001b[0m\u001b[0m\n\u001b[0;32m----> 5\u001b[0;31m \u001b[0mprint\u001b[0m\u001b[0;34m(\u001b[0m\u001b[0mmy_tuple\u001b[0m\u001b[0;34m)\u001b[0m\u001b[0;34m\u001b[0m\u001b[0;34m\u001b[0m\u001b[0m\n\u001b[0m",
            "\u001b[0;31mNameError\u001b[0m: name 'my_tuple' is not defined"
          ]
        }
      ]
    },
    {
      "cell_type": "code",
      "source": [
        "#20. Slice a tuple\n",
        "\n",
        "my_tuple = (1,2,3,4,5,6,7,8,9,10)\n",
        "sliced_tuple = my_tuple[2:6]\n",
        "print(\"Sliced tuple:\" , sliced_tuple)"
      ],
      "metadata": {
        "id": "wF7EyI-h4eE-",
        "colab": {
          "base_uri": "https://localhost:8080/"
        },
        "outputId": "c465727c-4416-4382-d317-1b879b885309"
      },
      "execution_count": null,
      "outputs": [
        {
          "output_type": "stream",
          "name": "stdout",
          "text": [
            "Sliced tuple: (3, 4, 5, 6)\n"
          ]
        }
      ]
    },
    {
      "cell_type": "code",
      "source": [
        "#21. Find the max value in a tuple\n",
        "\n",
        "my_tuple = (10,20,5,45,30)\n",
        "max_value = max(my_tuple)\n",
        "print(\"Maximum value:\" , max_value)"
      ],
      "metadata": {
        "id": "-pjR6bMv4m1C",
        "colab": {
          "base_uri": "https://localhost:8080/"
        },
        "outputId": "a120eca6-a6c9-4241-a36f-e6c6b1ef2ba9"
      },
      "execution_count": null,
      "outputs": [
        {
          "output_type": "stream",
          "name": "stdout",
          "text": [
            "Maximum value: 45\n"
          ]
        }
      ]
    },
    {
      "cell_type": "code",
      "source": [
        "#22. Find the min value in a tuple\n",
        "\n",
        "my_tuple =(10,20,5,45,30)\n",
        "min_value = min(my_tuple)\n",
        "print(\"Minimum value:\" , min_value)"
      ],
      "metadata": {
        "id": "x5CghYw64sj-",
        "colab": {
          "base_uri": "https://localhost:8080/"
        },
        "outputId": "31835c4d-168f-4f11-8c5c-f7af20ac9554"
      },
      "execution_count": null,
      "outputs": [
        {
          "output_type": "stream",
          "name": "stdout",
          "text": [
            "Minimum value: 5\n"
          ]
        }
      ]
    },
    {
      "cell_type": "code",
      "source": [
        "#23. Convert a string to a tuple of characters\n",
        "\n",
        "my_string = \"Hello, World!\"\n",
        "tuple_of_characters = tuple(my_string)\n",
        "print(\"Tuple of characters:\" , tuple_of_characters)"
      ],
      "metadata": {
        "id": "dxPDGm524w3o",
        "colab": {
          "base_uri": "https://localhost:8080/"
        },
        "outputId": "c53836f5-492f-4456-8143-1c82a47c7b2b"
      },
      "execution_count": null,
      "outputs": [
        {
          "output_type": "stream",
          "name": "stdout",
          "text": [
            "Tuple of characters: ('H', 'e', 'l', 'l', 'o', ',', ' ', 'W', 'o', 'r', 'l', 'd', '!')\n"
          ]
        }
      ]
    },
    {
      "cell_type": "code",
      "source": [
        "#24. Convert a tuple of characters to a string\n",
        "\n",
        "tuple_of_characters = ('H','e','l','l','o',' ','W','o','r','l','d')\n",
        "string_from_tuple = ''.join(tuple_of_characters)\n",
        "print(\"String from tuple:\" , string_from_tuple)"
      ],
      "metadata": {
        "id": "2YwIMl9F4_x6",
        "colab": {
          "base_uri": "https://localhost:8080/"
        },
        "outputId": "d74acfcc-e95d-4d72-ee38-70889eb2566d"
      },
      "execution_count": null,
      "outputs": [
        {
          "output_type": "stream",
          "name": "stdout",
          "text": [
            "String from tuple: Hello World\n"
          ]
        }
      ]
    },
    {
      "cell_type": "code",
      "source": [
        "#25. Create a tuple from multiple data types\n",
        "\n",
        "mixed_tuple = (1, \"hello\", 3.14,True)\n",
        "print(mixed_tuple)"
      ],
      "metadata": {
        "id": "nw01odQE5G7a",
        "colab": {
          "base_uri": "https://localhost:8080/"
        },
        "outputId": "d76f85fc-4f79-4635-ae59-6a27a75dba39"
      },
      "execution_count": null,
      "outputs": [
        {
          "output_type": "stream",
          "name": "stdout",
          "text": [
            "(1, 'hello', 3.14, True)\n"
          ]
        }
      ]
    },
    {
      "cell_type": "code",
      "source": [
        "#26. Check if two tuples are identical\n",
        "\n",
        "tuple1 = (1,2,3)\n",
        "tuple2 = (1,2,3)\n",
        "tuple3 = (4,5,6)\n",
        "are_identical1 = tuple1 == tuple2\n",
        "are_identical2 = tuple1 == tuple3\n",
        "print(\"tuple1 and tuple2 are identical:\" , are_identical1)\n",
        "print(\"tuple1 and tuple3 are identical:\" , are_identical2)"
      ],
      "metadata": {
        "id": "mTjOJAlZ5QFR",
        "colab": {
          "base_uri": "https://localhost:8080/"
        },
        "outputId": "dd8caddf-2c5d-47e2-a798-0a83c85cf1f7"
      },
      "execution_count": null,
      "outputs": [
        {
          "output_type": "stream",
          "name": "stdout",
          "text": [
            "tuple1 and tuple2 are identical: True\n",
            "tuple1 and tuple3 are identical: False\n"
          ]
        }
      ]
    },
    {
      "cell_type": "code",
      "source": [
        "#27. Sort the elements of a tuple\n",
        "\n",
        "my_tuple = (5,2,8,1,3)\n",
        "sorted_tuple = tuple(sorted(my_tuple))\n",
        "print(\"Sorted tuple:\" , sorted_tuple)"
      ],
      "metadata": {
        "id": "eDcr9raT5W32",
        "colab": {
          "base_uri": "https://localhost:8080/"
        },
        "outputId": "17ad9c71-6f25-43f7-9af2-ddaccd0d03be"
      },
      "execution_count": null,
      "outputs": [
        {
          "output_type": "stream",
          "name": "stdout",
          "text": [
            "Sorted tuple: (1, 2, 3, 5, 8)\n"
          ]
        }
      ]
    },
    {
      "cell_type": "code",
      "source": [
        "#28. Convert a tuple of integers to a tuple of strings\n",
        "\n",
        "tuple_of_integers = (1,2,3,4,5)\n",
        "tuple_of_strings = tuple(str(item for item in tuple_of_integers))\n",
        "print(\"Tuple of strings:\" , tuple_of_strings)"
      ],
      "metadata": {
        "id": "o7ax4MfC5cgT",
        "colab": {
          "base_uri": "https://localhost:8080/"
        },
        "outputId": "ba6c9dd0-b790-4898-91a7-2f4fadecdcda"
      },
      "execution_count": null,
      "outputs": [
        {
          "output_type": "stream",
          "name": "stdout",
          "text": [
            "Tuple of strings: ('<', 'g', 'e', 'n', 'e', 'r', 'a', 't', 'o', 'r', ' ', 'o', 'b', 'j', 'e', 'c', 't', ' ', '<', 'g', 'e', 'n', 'e', 'x', 'p', 'r', '>', ' ', 'a', 't', ' ', '0', 'x', '7', 'f', '6', '5', '0', '7', 'a', '7', '4', '1', '2', '0', '>')\n"
          ]
        }
      ]
    },
    {
      "cell_type": "code",
      "source": [
        "#29. Convert a tuple of strings to a tuple of integers\n",
        "\n",
        "tuple_of_strings = ('1', '2', '3', '4', '5')\n",
        "tuple_of_integers = tuple(int(item) for item in tuple_of_strings)\n",
        "print(\"Tuple of integers:\" , tuple_of_integers)"
      ],
      "metadata": {
        "id": "IfgZF3e75lar",
        "colab": {
          "base_uri": "https://localhost:8080/"
        },
        "outputId": "ee06b458-b232-4ef7-8bf2-42d3ff4055ac"
      },
      "execution_count": null,
      "outputs": [
        {
          "output_type": "stream",
          "name": "stdout",
          "text": [
            "Tuple of integers: (1, 2, 3, 4, 5)\n"
          ]
        }
      ]
    },
    {
      "cell_type": "code",
      "source": [
        "#30. Merge two tuples\n",
        "\n",
        "tuple1 = (1,2,3)\n",
        "tuple2 = (4,5,6)\n",
        "merged_tuple = tuple1 + tuple2\n",
        "print(\"Merged tuple:\" , merged_tuple)"
      ],
      "metadata": {
        "id": "WwjdMfME5tso",
        "colab": {
          "base_uri": "https://localhost:8080/"
        },
        "outputId": "f73715e7-e8b2-4dff-f470-ef09ea9d2ca7"
      },
      "execution_count": null,
      "outputs": [
        {
          "output_type": "stream",
          "name": "stdout",
          "text": [
            "Merged tuple: (1, 2, 3, 4, 5, 6)\n"
          ]
        }
      ]
    },
    {
      "cell_type": "code",
      "source": [
        "#31. Flatten a nested tuple\n",
        "\n",
        "def flatten_tuple(nested_tuple):\n",
        "  flattened = []\n",
        "  for item in nested_tuple:\n",
        "    if isinstance(item, tuple):\n",
        "      flattened.extend(flatten_tuple(item))\n",
        "    else:\n",
        "      flattened.append(item)\n",
        "  return flattened\n",
        "nested_tuple = ((1,2),(3,4,5),(6,(7,8)))\n",
        "flattened_tuple = tuple(flatten_tuple(nested_tuple))\n",
        "print(\"Flattened tuple:\" , flattened_tuple)"
      ],
      "metadata": {
        "id": "DIFD7R-x5yfE",
        "colab": {
          "base_uri": "https://localhost:8080/"
        },
        "outputId": "5afacaa5-bd3a-4d73-90cb-15b7b44a50b0"
      },
      "execution_count": null,
      "outputs": [
        {
          "output_type": "stream",
          "name": "stdout",
          "text": [
            "Flattened tuple: (1, 2, 3, 4, 5, 6, 7, 8)\n"
          ]
        }
      ]
    },
    {
      "cell_type": "code",
      "source": [
        "#32. Create a tuple of the first 5 prime numbers\n",
        "\n",
        "def is_primt(num):\n",
        "  if num <= 1:\n",
        "     return False\n",
        "  for i in range(2, int(num ** 0.5) + 1 ):\n",
        "      if num %i == 0:\n",
        "           return False\n",
        "  return True\n",
        "prime_numbers_list = [num for num in range(2,100) if is_primt(num)][:5]\n",
        "prime_numbers_tuple = tuple(prime_numbers_list)\n",
        "print(\"Tuple of the first 5 prime numbers:\" , prime_numbers_tuple)"
      ],
      "metadata": {
        "id": "HHn6sK-i53Me",
        "colab": {
          "base_uri": "https://localhost:8080/"
        },
        "outputId": "5a4aaa5b-1830-4107-a59c-d796fcc9a982"
      },
      "execution_count": null,
      "outputs": [
        {
          "output_type": "stream",
          "name": "stdout",
          "text": [
            "Tuple of the first 5 prime numbers: (2, 3, 5, 7, 11)\n"
          ]
        }
      ]
    },
    {
      "cell_type": "code",
      "source": [
        "#33. Check if a tuple is a palindrome\n",
        "\n",
        "def is_palindrome(tup):\n",
        "  return tup == tup[::-1]\n",
        "palindrome_tuple = (1,2,3,2,1)\n",
        "non_palindrome_tuple = (1,2,3,4,5)\n",
        "is_palindrome1 = is_palindrome(palindrome_tuple)\n",
        "is_palindrome2 = is_palindrome(non_palindrome_tuple)\n",
        "print(\"palindrome_tuple is a palindrome:\" , is_palindrome1)\n",
        "print(\"non_palindrome_tuple is a palindrome:\" , is_palindrome2)"
      ],
      "metadata": {
        "id": "VBQQHL816Cb1",
        "colab": {
          "base_uri": "https://localhost:8080/"
        },
        "outputId": "82fd2d5b-1d91-4c40-a8d5-87d4a7a4e725"
      },
      "execution_count": null,
      "outputs": [
        {
          "output_type": "stream",
          "name": "stdout",
          "text": [
            "palindrome_tuple is a palindrome: True\n",
            "non_palindrome_tuple is a palindrome: False\n"
          ]
        }
      ]
    },
    {
      "cell_type": "code",
      "source": [
        "#34. Create a tuple of squares of numbers from 1 to 5\n",
        "\n",
        "squares_tuple = tuple(x ** 2 for x in range(1,6))\n",
        "print(\"Tuple of squares:\" , squares_tuple)"
      ],
      "metadata": {
        "id": "gxyLrsbH6Nmn",
        "colab": {
          "base_uri": "https://localhost:8080/"
        },
        "outputId": "3f8cb1e8-5996-496b-cf48-df103b2c5afe"
      },
      "execution_count": null,
      "outputs": [
        {
          "output_type": "stream",
          "name": "stdout",
          "text": [
            "Tuple of squares: (1, 4, 9, 16, 25)\n"
          ]
        }
      ]
    },
    {
      "cell_type": "code",
      "source": [
        "#35. Filter out all even numbers from a tuple\n",
        "\n",
        "original_tuple = (1,2,3,4,5,6,7,8,9,10)\n",
        "filtered_tuple = tuple(num for num in original_tuple if num % 2 != 0)\n",
        "print(\"Filtered tuple:\" , filtered_tuple)"
      ],
      "metadata": {
        "id": "V6NF7WR-6VZC",
        "colab": {
          "base_uri": "https://localhost:8080/"
        },
        "outputId": "82d878e4-89a4-4fd9-9307-86bf831e55bb"
      },
      "execution_count": null,
      "outputs": [
        {
          "output_type": "stream",
          "name": "stdout",
          "text": [
            "Filtered tuple: (1, 3, 5, 7, 9)\n"
          ]
        }
      ]
    },
    {
      "cell_type": "code",
      "source": [
        "#36. Multiply all elements in a tuple by 2\n",
        "\n",
        "original_tuple = (1,2,3,4,5)\n",
        "doubled_tuple = tuple(num* 2 for num in original_tuple)\n",
        "print(\"Doubled tuple:\" , doubled_tuple)"
      ],
      "metadata": {
        "id": "8r8qrve86dP9",
        "colab": {
          "base_uri": "https://localhost:8080/"
        },
        "outputId": "ccee77c3-fcb1-4f53-bccf-edac6564378d"
      },
      "execution_count": null,
      "outputs": [
        {
          "output_type": "stream",
          "name": "stdout",
          "text": [
            "Doubled tuple: (2, 4, 6, 8, 10)\n"
          ]
        }
      ]
    },
    {
      "cell_type": "code",
      "source": [
        "#37. Create a tuple of random numbers\n",
        "\n",
        "import random\n",
        "random_tuple = tuple(random.randint(1,100) for _ in range(10))\n",
        "print(\"Random tuple:\" , random_tuple)"
      ],
      "metadata": {
        "id": "s7EYpjPt6lIL",
        "colab": {
          "base_uri": "https://localhost:8080/"
        },
        "outputId": "1ef755ea-bcb0-446a-ab74-eb6d5ba13735"
      },
      "execution_count": null,
      "outputs": [
        {
          "output_type": "stream",
          "name": "stdout",
          "text": [
            "Random tuple: (55, 56, 51, 33, 40, 91, 57, 25, 99, 87)\n"
          ]
        }
      ]
    },
    {
      "cell_type": "code",
      "source": [
        "#38. Check if a tuple is sorted\n",
        "\n",
        "def is_sorted(tup):\n",
        "  for i in range(len(tup) - 1):\n",
        "    if tup[i] > tup[i + 1]:\n",
        "        return False\n",
        "  return True\n",
        "sorted_tuple = (1,2,3,4,5)\n",
        "unsorted_tuple = (5,3,1,4,2)\n",
        "is_sorted1 = is_sorted(sorted_tuple)\n",
        "is_sorted2 = is_sorted(unsorted_tuple)\n",
        "print(\"sorted_tuple is sorted:\" , is_sorted1)\n",
        "print(\"unsorted_tuple is sortd:\" , is_sorted2)"
      ],
      "metadata": {
        "id": "o3l3QdsA6tbU",
        "colab": {
          "base_uri": "https://localhost:8080/"
        },
        "outputId": "93a03583-9177-4973-e4ff-421f8c5bd255"
      },
      "execution_count": null,
      "outputs": [
        {
          "output_type": "stream",
          "name": "stdout",
          "text": [
            "sorted_tuple is sorted: True\n",
            "unsorted_tuple is sortd: False\n"
          ]
        }
      ]
    },
    {
      "cell_type": "code",
      "source": [
        "#39. Rotate a tuple to the left by 'n' positions\n",
        "\n",
        "def rotate_tuple_left(tup, n):\n",
        "    n = n % len(tup)\n",
        "    rotated_tuple = tup[n:] + tup[:n]\n",
        "    return rotated_tuple\n",
        "my_tuple = (1,2,3,4,5)\n",
        "n_positions = 2\n",
        "result = rotate_tuple_left(my_tuple, n_positions)\n",
        "print(result)"
      ],
      "metadata": {
        "id": "-Oxk5tOH6xpB",
        "colab": {
          "base_uri": "https://localhost:8080/"
        },
        "outputId": "71b59285-8711-4c23-d544-ef0a29472d4c"
      },
      "execution_count": null,
      "outputs": [
        {
          "output_type": "stream",
          "name": "stdout",
          "text": [
            "(3, 4, 5, 1, 2)\n"
          ]
        }
      ]
    },
    {
      "cell_type": "code",
      "source": [
        "#40. Rotate a tuple to the right by 'n' positions\n",
        "\n",
        "def rotate_tuple_right(tup, n):\n",
        "   n = n % len(tup)\n",
        "   rotated_tuple = tup[-n:] + tup[:-n]\n",
        "   return rotated_tuple\n",
        "my_tuple = (1,2,3,4,5)\n",
        "n_positions = 2\n",
        "result = rotate_tuple_right(my_tuple, n_positions)\n",
        "print(result)"
      ],
      "metadata": {
        "id": "8ylohGDv6-jd",
        "colab": {
          "base_uri": "https://localhost:8080/"
        },
        "outputId": "139c7c33-9cec-4ea9-f1c2-5eede10e6fc4"
      },
      "execution_count": null,
      "outputs": [
        {
          "output_type": "stream",
          "name": "stdout",
          "text": [
            "(4, 5, 1, 2, 3)\n"
          ]
        }
      ]
    },
    {
      "cell_type": "code",
      "source": [
        "#41. Create a tuple of the first 5 fabonacci numbers\n",
        "\n",
        "def generate_fibonacci(n):\n",
        "  fibonacci = [0,1]\n",
        "  while len(fibonacci) < n:\n",
        "    next_number = fibonacci[-1] + fibonacci[-2]\n",
        "    fibonacci.append(next_number)\n",
        "  return tuple(fibonacci)\n",
        "fibonacci_tuple = generate_fibonacci(5)\n",
        "print(fibonacci_tuple)"
      ],
      "metadata": {
        "id": "iI0NtFUK7GR3",
        "colab": {
          "base_uri": "https://localhost:8080/"
        },
        "outputId": "627df93b-41b8-488f-c24b-d548f1ba69e0"
      },
      "execution_count": null,
      "outputs": [
        {
          "output_type": "stream",
          "name": "stdout",
          "text": [
            "(0, 1, 1, 2, 3)\n"
          ]
        }
      ]
    },
    {
      "cell_type": "code",
      "source": [
        "#42. Create a tuple from user input\n",
        "\n",
        "input_str = input(\"Enter elements separated by commas:\")\n",
        "input_list = input_str.split(',')\n",
        "user_tuple = tuple(input_list)\n",
        "print(\"User input tuple:\" , user_tuple)"
      ],
      "metadata": {
        "id": "fmNPIxtM7S8s",
        "colab": {
          "base_uri": "https://localhost:8080/"
        },
        "outputId": "a3912927-5ba8-4ef3-dbf7-f54ce82abd8c"
      },
      "execution_count": null,
      "outputs": [
        {
          "output_type": "stream",
          "name": "stdout",
          "text": [
            "Enter elements separated by commas:s,a,n,y,o,gi,t,a, ,s,i,n,g,h\n",
            "User input tuple: ('s', 'a', 'n', 'y', 'o', 'gi', 't', 'a', ' ', 's', 'i', 'n', 'g', 'h')\n"
          ]
        }
      ]
    },
    {
      "cell_type": "code",
      "source": [
        "#43. Swap two elements in a tuple\n",
        "\n",
        "my_tuple = (1,2,3,4,5)\n",
        "index1 = 1\n",
        "index2 = 3\n",
        "swapped_tuple = tuple(my_tuple[i] if i not in (index1, index2) else my_tuple[index2] if i == index1 else my_tuple[index1] for i in range(len(my_tuple)))\n",
        "print(\"Swapped tuple:\" , swapped_tuple)"
      ],
      "metadata": {
        "id": "bE6r-0B77ebt",
        "colab": {
          "base_uri": "https://localhost:8080/"
        },
        "outputId": "13677bd5-3aa4-4911-bfe6-f73815f6063c"
      },
      "execution_count": null,
      "outputs": [
        {
          "output_type": "stream",
          "name": "stdout",
          "text": [
            "Swapped tuple: (1, 4, 3, 2, 5)\n"
          ]
        }
      ]
    },
    {
      "cell_type": "code",
      "source": [
        "#44. Reverse the elements of a tuple\n",
        "\n",
        "my_tuple = (1,2,3,4,5)\n",
        "reversed_tuple = my_tuple[::-1]\n",
        "print(\"Reversed tuple:\" , reversed_tuple)"
      ],
      "metadata": {
        "id": "4vGCp0wJ7jqZ",
        "colab": {
          "base_uri": "https://localhost:8080/"
        },
        "outputId": "9def16ad-bd82-4b6b-890d-3412bc5380aa"
      },
      "execution_count": null,
      "outputs": [
        {
          "output_type": "stream",
          "name": "stdout",
          "text": [
            "Reversed tuple: (5, 4, 3, 2, 1)\n"
          ]
        }
      ]
    },
    {
      "cell_type": "code",
      "source": [
        "#45. Create a tuple of the first 'n' powers 2\n",
        "\n",
        "n = 5\n",
        "powers_of_2_tuple = tuple(2 ** i for i in range(n))\n",
        "print(\"Tuple of the first\" ,n,\"powers of 2:\", powers_of_2_tuple)"
      ],
      "metadata": {
        "id": "pxPw6SZ17rad",
        "colab": {
          "base_uri": "https://localhost:8080/"
        },
        "outputId": "f95ce4e0-98bd-4ad2-db70-5ab885c06226"
      },
      "execution_count": null,
      "outputs": [
        {
          "output_type": "stream",
          "name": "stdout",
          "text": [
            "Tuple of the first 5 powers of 2: (1, 2, 4, 8, 16)\n"
          ]
        }
      ]
    },
    {
      "cell_type": "code",
      "source": [
        "#46. Findest the longest string in a tuple of strings\n",
        "\n",
        "string_tuple = (\"sanyogita\",\"arun\",\"manan\",\"shailesh\")\n",
        "longest_string = max(string_tuple,key=len)\n",
        "print(\"Longest string:\" , longest_string)"
      ],
      "metadata": {
        "id": "SM8IFdyG72pt",
        "colab": {
          "base_uri": "https://localhost:8080/"
        },
        "outputId": "39fb1917-53d1-4b4f-cd26-1e0e86f4ae2e"
      },
      "execution_count": null,
      "outputs": [
        {
          "output_type": "stream",
          "name": "stdout",
          "text": [
            "Longest string: sanyogita\n"
          ]
        }
      ]
    },
    {
      "cell_type": "code",
      "source": [
        "#47. Find the shortest string in a tuple of strings\n",
        "\n",
        "string_tuple = (\"sanyogita\" , \"manan\" , \"shailesh\" , \"arun\")\n",
        "shortest_string = min(string_tuple , key=len)\n",
        "print(\"Shortest string:\" , shortest_string)"
      ],
      "metadata": {
        "id": "OZj8eMHM7-I5",
        "colab": {
          "base_uri": "https://localhost:8080/"
        },
        "outputId": "6705cb45-67f3-4cd2-9ca3-8705448fbbfe"
      },
      "execution_count": null,
      "outputs": [
        {
          "output_type": "stream",
          "name": "stdout",
          "text": [
            "Shortest string: arun\n"
          ]
        }
      ]
    },
    {
      "cell_type": "code",
      "source": [
        "#48. Create a tuple of the first 'n' triangular numbers\n",
        "\n",
        "def triangular_series(n):\n",
        "  j = 1\n",
        "  k = 1\n",
        "  for i in range(1,n +1):\n",
        "    print(k,end = ' ')\n",
        "    j = j + 1\n",
        "    k = k + j\n",
        "n = 5\n",
        "triangular_series(n)\n"
      ],
      "metadata": {
        "id": "teGe5Lkc8Moe",
        "colab": {
          "base_uri": "https://localhost:8080/"
        },
        "outputId": "31aa74bd-a961-433e-85da-1d1507e46541"
      },
      "execution_count": null,
      "outputs": [
        {
          "output_type": "stream",
          "name": "stdout",
          "text": [
            "1 3 6 10 15 "
          ]
        }
      ]
    },
    {
      "cell_type": "code",
      "source": [
        "#49. Check if a tuple contains another tuple as sebsequence\n",
        "\n",
        "def contains_subsequence(main_tuple , sub_tuple):\n",
        "    sub_length = len(sub_tuple)\n",
        "    for i in range(len(main_tuple) - sub_length + 1):\n",
        "       if main_tuple[i:i+sub_length] == sub_tuple:\n",
        "          return True\n",
        "    return False\n",
        "main_tuple = (1,2,3,4,5,6,7,8,9)\n",
        "sub_tuple = (3,4,5)\n",
        "contains_subseq = contains_subsequence(main_tuple , sub_tuple)\n",
        "print(\"Main tuple contains contains subsequence tuple:\" , contains_subseq)"
      ],
      "metadata": {
        "id": "u3aDTug68WaW",
        "colab": {
          "base_uri": "https://localhost:8080/"
        },
        "outputId": "519f933a-21b2-4493-d668-121f75fe2f54"
      },
      "execution_count": null,
      "outputs": [
        {
          "output_type": "stream",
          "name": "stdout",
          "text": [
            "Main tuple contains contains subsequence tuple: True\n"
          ]
        }
      ]
    },
    {
      "cell_type": "code",
      "source": [
        "#50. Create a tuple of alternating 1s and 0s of length 'n'\n",
        "\n",
        "n = 10\n",
        "alternating_tuple = tuple(i % 2 for i in range(n))\n",
        "print(\"Tuple of alternating 1s and 0s:\" , alternating_tuple)"
      ],
      "metadata": {
        "id": "KvWxyvzo8jxN",
        "colab": {
          "base_uri": "https://localhost:8080/"
        },
        "outputId": "6f12f1d9-1c06-4875-c0cd-dce66049c0fc"
      },
      "execution_count": null,
      "outputs": [
        {
          "output_type": "stream",
          "name": "stdout",
          "text": [
            "Tuple of alternating 1s and 0s: (0, 1, 0, 1, 0, 1, 0, 1, 0, 1)\n"
          ]
        }
      ]
    },
    {
      "cell_type": "code",
      "source": [
        "#TOPIC: Set Based Pratice Problems"
      ],
      "metadata": {
        "id": "-gzEoYAc82Ir"
      },
      "execution_count": null,
      "outputs": []
    },
    {
      "cell_type": "code",
      "source": [
        "#1. Create a set with integers from 1 to 5\n",
        "\n",
        "set = {1,2,3,4,5}\n",
        "print(set)"
      ],
      "metadata": {
        "colab": {
          "base_uri": "https://localhost:8080/"
        },
        "id": "guGADAbb0aIs",
        "outputId": "63326e7e-1389-4bed-8ced-d1d6219ab3d7"
      },
      "execution_count": null,
      "outputs": [
        {
          "output_type": "stream",
          "name": "stdout",
          "text": [
            "{1, 2, 3, 4, 5}\n"
          ]
        }
      ]
    },
    {
      "cell_type": "code",
      "source": [
        "#2. Add an element to a set\n",
        "\n",
        "set = {1,2,3,4,6}\n",
        "set.add(5)\n",
        "print(\"final: \" , set)"
      ],
      "metadata": {
        "colab": {
          "base_uri": "https://localhost:8080/"
        },
        "id": "kjsHoiZa1BlL",
        "outputId": "549f3ec5-71c4-4fd3-f559-ae900a889a51"
      },
      "execution_count": null,
      "outputs": [
        {
          "output_type": "stream",
          "name": "stdout",
          "text": [
            "final:  {1, 2, 3, 4, 5, 6}\n"
          ]
        }
      ]
    },
    {
      "cell_type": "code",
      "source": [
        "#3. Remove an element from a set\n",
        "\n",
        "set = {1,2,3,4,5,6,9}\n",
        "set.remove(9)\n",
        "print(set)"
      ],
      "metadata": {
        "colab": {
          "base_uri": "https://localhost:8080/"
        },
        "id": "q0lcAmS31HBt",
        "outputId": "68518053-3af4-4b63-f102-39adb826bbaa"
      },
      "execution_count": null,
      "outputs": [
        {
          "output_type": "stream",
          "name": "stdout",
          "text": [
            "{1, 2, 3, 4, 5, 6}\n"
          ]
        }
      ]
    },
    {
      "cell_type": "code",
      "source": [
        "#4. Check if an element exists in a set\n",
        "\n",
        "set = {1,2,3,4,5,6,7,8,9}\n",
        "print(2 in set)"
      ],
      "metadata": {
        "colab": {
          "base_uri": "https://localhost:8080/"
        },
        "id": "FB2zgk0i1NhY",
        "outputId": "4609de57-04ec-47d8-bffe-dab1907cd256"
      },
      "execution_count": null,
      "outputs": [
        {
          "output_type": "stream",
          "name": "stdout",
          "text": [
            "True\n"
          ]
        }
      ]
    },
    {
      "cell_type": "code",
      "source": [
        "#5. Find the length of a set without using the 'len()' funtion\n",
        "\n",
        "my_set = {1,2,3,4,5}\n",
        "count = 0\n",
        "for _ in my_set:\n",
        "  count += 1\n",
        "print(\"Length of the set:\" , count)"
      ],
      "metadata": {
        "id": "KOL2CfPC1UaD",
        "colab": {
          "base_uri": "https://localhost:8080/"
        },
        "outputId": "5c805140-f171-43d0-c8e9-b0a6b93351b1"
      },
      "execution_count": null,
      "outputs": [
        {
          "output_type": "stream",
          "name": "stdout",
          "text": [
            "Length of the set: 1\n",
            "Length of the set: 2\n",
            "Length of the set: 3\n",
            "Length of the set: 4\n",
            "Length of the set: 5\n"
          ]
        }
      ]
    },
    {
      "cell_type": "code",
      "source": [
        "#6. Clear all elements from a set\n",
        "\n",
        "my_set = {1,2,3,4,5}\n",
        "print(\"Original set:\" , my_set)\n",
        "my_set.clear()\n",
        "print(\"Set after clearing:\" , my_set)"
      ],
      "metadata": {
        "id": "VSMk6-Vh1exV",
        "colab": {
          "base_uri": "https://localhost:8080/"
        },
        "outputId": "1e929e76-84b8-4bd7-fb6a-3ca8d6267f47"
      },
      "execution_count": null,
      "outputs": [
        {
          "output_type": "stream",
          "name": "stdout",
          "text": [
            "Original set: {1, 2, 3, 4, 5}\n",
            "Set after clearing: set()\n"
          ]
        }
      ]
    },
    {
      "cell_type": "code",
      "source": [
        "#7. Create a set of even numbers from 1 to 10\n",
        "\n",
        "even_numbers_set = set()\n",
        "for num in range(1,11):\n",
        "  if num %2 == 0:\n",
        "    even_numbers_set.add(num)\n",
        "print(even_numbers_set)"
      ],
      "metadata": {
        "id": "YDOEGcr81mfK",
        "colab": {
          "base_uri": "https://localhost:8080/"
        },
        "outputId": "5a8654f3-c80b-40f2-b2fa-cf05a94129f7"
      },
      "execution_count": null,
      "outputs": [
        {
          "output_type": "stream",
          "name": "stdout",
          "text": [
            "{2, 4, 6, 8, 10}\n"
          ]
        }
      ]
    },
    {
      "cell_type": "code",
      "source": [
        "#8. Create a set of odd numbers from 1 to 10\n",
        "\n",
        "odd_numbers_set = set()\n",
        "for num in range(1,11):\n",
        "  if num %2 != 0:\n",
        "    odd_numbers_set.add(num)\n",
        "print(odd_numbers_set)"
      ],
      "metadata": {
        "id": "XNhKXp3R1sWF",
        "colab": {
          "base_uri": "https://localhost:8080/"
        },
        "outputId": "de2fe1e6-769a-415f-abb8-b6e2c18edd94"
      },
      "execution_count": null,
      "outputs": [
        {
          "output_type": "stream",
          "name": "stdout",
          "text": [
            "{1, 3, 5, 7, 9}\n"
          ]
        }
      ]
    },
    {
      "cell_type": "code",
      "source": [
        "#9. Find the union of two\n",
        "\n",
        "set1 = {1,2,3,4,5}\n",
        "set2 = {4,5,6,7,8}\n",
        "union_result = set1.union(set2)\n",
        "print(\"Set 1:\" , set1)\n",
        "print(\"Set 2:\" , set2)\n",
        "print(\"Union of set 1 and set 2:\" , union_result)"
      ],
      "metadata": {
        "id": "i-rHPXlY10wK",
        "colab": {
          "base_uri": "https://localhost:8080/"
        },
        "outputId": "0d2de0df-73a3-40a4-ea99-13d12f9e4af3"
      },
      "execution_count": null,
      "outputs": [
        {
          "output_type": "stream",
          "name": "stdout",
          "text": [
            "Set 1: {1, 2, 3, 4, 5}\n",
            "Set 2: {4, 5, 6, 7, 8}\n",
            "Union of set 1 and set 2: {1, 2, 3, 4, 5, 6, 7, 8}\n"
          ]
        }
      ]
    },
    {
      "cell_type": "code",
      "source": [
        "#10. Find the intersection of two sets\n",
        "\n",
        "set1 = {1,2,3,4,5}\n",
        "set2 = {3,4,5,6,7}\n",
        "intersection_result = set.intersection(set2)\n",
        "print(\"Set 1:\" , set1)\n",
        "print(\"Set 2:\" , set2)\n",
        "print(\"Intersection:\" , intersection_result)"
      ],
      "metadata": {
        "id": "wluFU-_h2ABS",
        "colab": {
          "base_uri": "https://localhost:8080/"
        },
        "outputId": "0f6fba15-da2c-41a9-a5b0-0d563ea1d574"
      },
      "execution_count": null,
      "outputs": [
        {
          "output_type": "stream",
          "name": "stdout",
          "text": [
            "Set 1: {1, 2, 3, 4, 5}\n",
            "Set 2: {3, 4, 5, 6, 7}\n",
            "Intersection: {3, 4, 5, 6, 7}\n"
          ]
        }
      ]
    },
    {
      "cell_type": "code",
      "source": [
        "#11. Find the difference between two sets\n",
        "\n",
        "set1 = {1,2,3,4,5}\n",
        "set2 = {3,4,5,6,7}\n",
        "difference_set = set1.difference(set2)\n",
        "print(\"Set 1:\" , set1)\n",
        "print(\"Set 2:\" , set2)\n",
        "print(\"Difference:\" , difference_set)"
      ],
      "metadata": {
        "id": "SMdlPvA52Gjw",
        "colab": {
          "base_uri": "https://localhost:8080/"
        },
        "outputId": "a7d5cb7e-a1d5-4218-ea33-18fd6af5a19d"
      },
      "execution_count": null,
      "outputs": [
        {
          "output_type": "stream",
          "name": "stdout",
          "text": [
            "Set 1: {1, 2, 3, 4, 5}\n",
            "Set 2: {3, 4, 5, 6, 7}\n",
            "Difference: {1, 2}\n"
          ]
        }
      ]
    },
    {
      "cell_type": "code",
      "source": [
        "#12. Check if a set is a subset of another set\n",
        "\n",
        "set1 = {1,2,3}\n",
        "set2 = {1,2,3,4,5}\n",
        "is_subset = set1.issubset(set2)\n",
        "print(\"Is set1 a subset of set2:\" , is_subset)"
      ],
      "metadata": {
        "id": "mu-Fewid2NCN",
        "colab": {
          "base_uri": "https://localhost:8080/"
        },
        "outputId": "268a2e7d-9a3a-4698-979b-b40f78bd6fc5"
      },
      "execution_count": null,
      "outputs": [
        {
          "output_type": "stream",
          "name": "stdout",
          "text": [
            "Is set1 a subset of set2: True\n"
          ]
        }
      ]
    },
    {
      "cell_type": "code",
      "source": [
        "#13. Check if a set is a superset of another set\n",
        "\n",
        "set1 = {1,2,3,4,5,6}\n",
        "set2 = {3,4}\n",
        "is_superset = set1.issuperset(set2)\n",
        "if is_superset:\n",
        "  print(\"set1 is a supersetof set2\")\n",
        "else:\n",
        "  print(\"set1 is not a superset of set2\")"
      ],
      "metadata": {
        "id": "628_WdTh2VU5",
        "colab": {
          "base_uri": "https://localhost:8080/"
        },
        "outputId": "814aa923-09e7-4468-cd2a-a1f285ef54c3"
      },
      "execution_count": null,
      "outputs": [
        {
          "output_type": "stream",
          "name": "stdout",
          "text": [
            "set1 is a supersetof set2\n"
          ]
        }
      ]
    },
    {
      "cell_type": "code",
      "source": [
        "#14. Create a set from a list\n",
        "\n",
        "my_list = [2,4,1,4,3,2,5]\n",
        "my_set = set(my_list)\n",
        "print(\"Original List:\" , my_list)\n",
        "print(\"Set from List:\" , my_set)"
      ],
      "metadata": {
        "id": "NIfmtHkP2dzq",
        "colab": {
          "base_uri": "https://localhost:8080/"
        },
        "outputId": "e6449ded-2ad0-4401-ea9d-576ea8d4205b"
      },
      "execution_count": null,
      "outputs": [
        {
          "output_type": "stream",
          "name": "stdout",
          "text": [
            "Original List: [2, 4, 1, 4, 3, 2, 5]\n",
            "Set from List: {1, 2, 3, 4, 5}\n"
          ]
        }
      ]
    },
    {
      "cell_type": "code",
      "source": [
        "#15. Convert a set to a list\n",
        "\n",
        "my_set = {3,1,4,1,5,9,2,6,5}\n",
        "my_list = list(my_set)\n",
        "print(\"Original Set:\" , my_set)\n",
        "print(\"Converted List:\" , my_list)"
      ],
      "metadata": {
        "id": "8y5CIieA2jBZ",
        "colab": {
          "base_uri": "https://localhost:8080/"
        },
        "outputId": "cf3ce147-c823-447e-99df-b198a88066c4"
      },
      "execution_count": null,
      "outputs": [
        {
          "output_type": "stream",
          "name": "stdout",
          "text": [
            "Original Set: {1, 2, 3, 4, 5, 6, 9}\n",
            "Converted List: [1, 2, 3, 4, 5, 6, 9]\n"
          ]
        }
      ]
    },
    {
      "cell_type": "code",
      "source": [
        "#16. Remove a random element from a set\n",
        "\n",
        "import random\n",
        "my_set = {1,2,3,4,5}\n",
        "print(\"Original set:\" , my_set)\n",
        "random_element = random.choice(list(my_set))\n",
        "my_set.remove(random_element)\n",
        "print(\"Updated set after removing:\" , random_element , \":\" , my_set)"
      ],
      "metadata": {
        "id": "qMEoZQcU2pr0",
        "colab": {
          "base_uri": "https://localhost:8080/"
        },
        "outputId": "72a10bfc-3b7e-4384-866a-2adde77891b5"
      },
      "execution_count": null,
      "outputs": [
        {
          "output_type": "stream",
          "name": "stdout",
          "text": [
            "Original set: {1, 2, 3, 4, 5}\n",
            "Updated set after removing: 4 : {1, 2, 3, 5}\n"
          ]
        }
      ]
    },
    {
      "cell_type": "code",
      "source": [
        "#17. Pop  an element from a set\n",
        "\n",
        "my_set = {1,2,3,4,5}\n",
        "print(\"Original set:\" , my_set)\n",
        "popped_element = my_set.pop()\n",
        "print(\"Popped element:\" , popped_element)\n",
        "print(\"Set after popping:\" , my_set)"
      ],
      "metadata": {
        "id": "febyYVtm2x0Y",
        "colab": {
          "base_uri": "https://localhost:8080/"
        },
        "outputId": "4ea4493a-0de5-4466-be02-e5ce1e85ca93"
      },
      "execution_count": null,
      "outputs": [
        {
          "output_type": "stream",
          "name": "stdout",
          "text": [
            "Original set: {1, 2, 3, 4, 5}\n",
            "Popped element: 1\n",
            "Set after popping: {2, 3, 4, 5}\n"
          ]
        }
      ]
    },
    {
      "cell_type": "code",
      "source": [
        "#18. Check if two sets have no elements in\n",
        "\n",
        "set1 = {1,2,3,4}\n",
        "set2 = {5,6,7,8}\n",
        "common_elements = set1.intersection(set2)\n",
        "if not common_elements:\n",
        "  print(\"The two sets have no elements in common\")\n",
        "else:\n",
        "  print(\"The two sets have common elements:\" , common_elements)"
      ],
      "metadata": {
        "id": "kcO_KY6Y25ws",
        "colab": {
          "base_uri": "https://localhost:8080/"
        },
        "outputId": "33df3f3d-923e-4336-8938-cf1fb8497608"
      },
      "execution_count": null,
      "outputs": [
        {
          "output_type": "stream",
          "name": "stdout",
          "text": [
            "The two sets have no elements in common\n"
          ]
        }
      ]
    },
    {
      "cell_type": "code",
      "source": [
        "#19. Find the symmetric difference between two sets\n",
        "\n",
        "set1 = {1,2,3,4,5}\n",
        "set2 = {4,5,6,7,8}\n",
        "symmetric_difference = set1 ^ set2\n",
        "print(\"Symmetric Difference:\" , symmetric_difference)"
      ],
      "metadata": {
        "id": "L5vjmAFy3DL-",
        "colab": {
          "base_uri": "https://localhost:8080/"
        },
        "outputId": "c6cc5b8e-234a-41db-d762-22fb16a332ee"
      },
      "execution_count": null,
      "outputs": [
        {
          "output_type": "stream",
          "name": "stdout",
          "text": [
            "Symmetric Difference: {1, 2, 3, 6, 7, 8}\n"
          ]
        }
      ]
    },
    {
      "cell_type": "code",
      "source": [
        "#20. Update a set with elements from another set\n",
        "\n",
        "set1 = {1,2,3}\n",
        "print(\"Set 1:\" , set1)\n",
        "set2 = {3,4,5}\n",
        "print(\"Set 2:\" , set2)\n",
        "set1.update(set2)\n",
        "print(\"Updated Set 1:\" , set1)"
      ],
      "metadata": {
        "id": "rNx5ZIa83O6A",
        "colab": {
          "base_uri": "https://localhost:8080/"
        },
        "outputId": "93cf4388-3620-4e12-d018-4e307882620a"
      },
      "execution_count": null,
      "outputs": [
        {
          "output_type": "stream",
          "name": "stdout",
          "text": [
            "Set 1: {1, 2, 3}\n",
            "Set 2: {3, 4, 5}\n",
            "Updated Set 1: {1, 2, 3, 4, 5}\n"
          ]
        }
      ]
    },
    {
      "cell_type": "code",
      "source": [
        "#21. Create a set of the first 5 prime numbers\n",
        "\n",
        "def isPrime(n):\n",
        "  if(n == 1 or n == 0):\n",
        "    return False\n",
        "  for i in range(2,n):\n",
        "    if(n % i== 0):\n",
        "      return False\n",
        "  return True\n",
        "N = 100;\n",
        "for i in range(1,N+1):\n",
        "  if(isPrime(i)):\n",
        "    print(i,end=\" \")"
      ],
      "metadata": {
        "id": "R6tKM6aq3Whm",
        "colab": {
          "base_uri": "https://localhost:8080/"
        },
        "outputId": "2168c31a-fd5d-45b5-d563-6194241c28f3"
      },
      "execution_count": null,
      "outputs": [
        {
          "output_type": "stream",
          "name": "stdout",
          "text": [
            "2 3 5 7 11 13 17 19 23 29 31 37 41 43 47 53 59 61 67 71 73 79 83 89 97 "
          ]
        }
      ]
    },
    {
      "cell_type": "code",
      "source": [
        "#22. Check if two sets are identical\n",
        "\n",
        "set1 = {1,2,3,4,5}\n",
        "set2 = {3,1,5,2,4}\n",
        "if set1 == set2:\n",
        "  print(\"The sets are identical\")\n",
        "else:\n",
        "  print(\"The sets are not identical\")"
      ],
      "metadata": {
        "id": "KT2BziJM3gRg",
        "colab": {
          "base_uri": "https://localhost:8080/"
        },
        "outputId": "911d962c-352e-42c5-d556-267bf1f337f7"
      },
      "execution_count": null,
      "outputs": [
        {
          "output_type": "stream",
          "name": "stdout",
          "text": [
            "The sets are identical\n"
          ]
        }
      ]
    },
    {
      "cell_type": "code",
      "source": [
        "#23. Create a frozen set\n",
        "\n",
        "elements = [1,2,3,4,5]\n",
        "my_frozen_set = frozenset(elements)\n",
        "print(\"Frozen Set:\" , my_frozen_set)"
      ],
      "metadata": {
        "id": "PIbZFeuy3oEM",
        "colab": {
          "base_uri": "https://localhost:8080/"
        },
        "outputId": "bad7a494-733f-49f4-c6ca-956b5524deb9"
      },
      "execution_count": null,
      "outputs": [
        {
          "output_type": "stream",
          "name": "stdout",
          "text": [
            "Frozen Set: frozenset({1, 2, 3, 4, 5})\n"
          ]
        }
      ]
    },
    {
      "cell_type": "code",
      "source": [
        "#24. Check if a set is disjoint with another set\n",
        "\n",
        "set1 = {1,2,3,4}\n",
        "set2 = {5,6,7,8}\n",
        "disjoint_status = set1.isdisjoint(set2)\n",
        "print(\"Are the sets disjoint?\" , disjoint_status)"
      ],
      "metadata": {
        "id": "R4RNlQi13r1C",
        "colab": {
          "base_uri": "https://localhost:8080/"
        },
        "outputId": "36010f6a-08fa-4981-aac8-5fa49ea3b7c3"
      },
      "execution_count": null,
      "outputs": [
        {
          "output_type": "stream",
          "name": "stdout",
          "text": [
            "Are the sets disjoint? True\n"
          ]
        }
      ]
    },
    {
      "cell_type": "code",
      "source": [
        "#25. Create a set of squares of numbers from 1 to 5\n",
        "\n",
        "squares_set = set()\n",
        "for num in range(1,6):\n",
        "  square = num ** 2\n",
        "  squares_set.add(square)\n",
        "print(squares_set)"
      ],
      "metadata": {
        "id": "c5hToKJw3zaf",
        "colab": {
          "base_uri": "https://localhost:8080/"
        },
        "outputId": "e6e448b2-7de7-4956-c929-62d2bea03fa8"
      },
      "execution_count": null,
      "outputs": [
        {
          "output_type": "stream",
          "name": "stdout",
          "text": [
            "{1, 4, 9, 16, 25}\n"
          ]
        }
      ]
    },
    {
      "cell_type": "code",
      "source": [
        "#26. Filter out all even numbers from a set\n",
        "\n",
        "original_set = {1,2,3,4,5}\n",
        "even_numbers_set = set()\n",
        "for num in original_set:\n",
        "  if num %2 == 0:\n",
        "    even_numbers_set.add(num)\n",
        "print(\"Original Set:\" , original_set)\n",
        "print(\"Even Numbers Set:\" , even_numbers_set)"
      ],
      "metadata": {
        "id": "hUnda9ia38jI",
        "colab": {
          "base_uri": "https://localhost:8080/"
        },
        "outputId": "c6149a30-601c-4511-cddf-0cc4143659a2"
      },
      "execution_count": null,
      "outputs": [
        {
          "output_type": "stream",
          "name": "stdout",
          "text": [
            "Original Set: {1, 2, 3, 4, 5}\n",
            "Even Numbers Set: {2, 4}\n"
          ]
        }
      ]
    },
    {
      "cell_type": "code",
      "source": [
        "#27. Multiply all elements in a set by 2\n",
        "\n",
        "original_set = {1,2,3,4,5}\n",
        "multiplied_set = set()\n",
        "for num in original_set:\n",
        "  multiplied_num = num * 2\n",
        "  multiplied_set.add(multiplied_num)\n",
        "print(\"Original Set:\" , original_set)\n",
        "print(\"Multiplied Set:\" , multiplied_set)"
      ],
      "metadata": {
        "id": "dB5OUC6p4GxQ",
        "colab": {
          "base_uri": "https://localhost:8080/"
        },
        "outputId": "2c1576e2-eef5-4604-94ff-d1038d6af97d"
      },
      "execution_count": null,
      "outputs": [
        {
          "output_type": "stream",
          "name": "stdout",
          "text": [
            "Original Set: {1, 2, 3, 4, 5}\n",
            "Multiplied Set: {2, 4, 6, 8, 10}\n"
          ]
        }
      ]
    },
    {
      "cell_type": "code",
      "source": [
        "#28. Create a set of random numbers\n",
        "\n",
        "import random\n",
        "num_random_numbers = 5\n",
        "random_number_set = set()\n",
        "for _ in range(num_random_numbers):\n",
        "  random_num = random.randint(1,100)\n",
        "  random_number_set.add(random_num)\n",
        "print(\"Generated set of random numbers:\" , random_number_set)"
      ],
      "metadata": {
        "id": "3YCA7nBf4TFc",
        "colab": {
          "base_uri": "https://localhost:8080/"
        },
        "outputId": "8456c228-67df-4882-a27d-542fcf76729a"
      },
      "execution_count": null,
      "outputs": [
        {
          "output_type": "stream",
          "name": "stdout",
          "text": [
            "Generated set of random numbers: {67, 7, 82, 56, 89}\n"
          ]
        }
      ]
    },
    {
      "cell_type": "code",
      "source": [
        "#29. Check if a set is empty\n",
        "\n",
        "my_set = set()\n",
        "if not my_set:\n",
        "  print(\"The set is empty\")\n",
        "else:\n",
        "  print(\"The set is not empty\")"
      ],
      "metadata": {
        "id": "z8ZELIJV4XvI",
        "colab": {
          "base_uri": "https://localhost:8080/"
        },
        "outputId": "77dd8488-4b29-424b-e8c5-fca8801f749e"
      },
      "execution_count": null,
      "outputs": [
        {
          "output_type": "stream",
          "name": "stdout",
          "text": [
            "The set is empty\n"
          ]
        }
      ]
    },
    {
      "cell_type": "code",
      "source": [
        "#30. Ceate a nested set\n",
        "\n",
        "set1 = {1,2,3,4,5}\n",
        "set2 = {6,7,8,9,10}\n",
        "frozen_set1 = frozenset(set1)\n",
        "frozen_set2 = frozenset(set2)\n",
        "nested_set = {frozen_set1 , frozen_set2}\n",
        "print(\"Nested Set:\" , nested_set)"
      ],
      "metadata": {
        "id": "NylI-bsx4eId",
        "colab": {
          "base_uri": "https://localhost:8080/"
        },
        "outputId": "8e69da8a-7900-4288-b17c-cf022de3408a"
      },
      "execution_count": null,
      "outputs": [
        {
          "output_type": "stream",
          "name": "stdout",
          "text": [
            "Nested Set: {frozenset({1, 2, 3, 4, 5}), frozenset({6, 7, 8, 9, 10})}\n"
          ]
        }
      ]
    },
    {
      "cell_type": "code",
      "source": [
        "#31. Remove an elements from a set using the discard method\n",
        "\n",
        "my_set = {1,2,3,4,5}\n",
        "print(\"Initial set:\" , my_set)\n",
        "element_to_remove = 3\n",
        "my_set.discard(element_to_remove)\n",
        "print(\"Set after removing\" , element_to_remove,\":\" , my_set)"
      ],
      "metadata": {
        "id": "ibczY7L34jYS",
        "colab": {
          "base_uri": "https://localhost:8080/"
        },
        "outputId": "bf199c03-e038-48a9-d793-20f3ae2502c0"
      },
      "execution_count": null,
      "outputs": [
        {
          "output_type": "stream",
          "name": "stdout",
          "text": [
            "Initial set: {1, 2, 3, 4, 5}\n",
            "Set after removing 3 : {1, 2, 4, 5}\n"
          ]
        }
      ]
    },
    {
      "cell_type": "code",
      "source": [
        "#32. Compare two sets\n",
        "\n",
        "set1 = {1,2,3,4,5}\n",
        "set2 = {4,5,6,7,8}\n",
        "is_subset = set1.issubset(set2)\n",
        "is_superset = set1.issuperset(set2)\n",
        "intersection = set1.intersection(set2)\n",
        "union = set1.union(set2)\n",
        "difference1 = set1.difference(set2)\n",
        "difference2 = set2.difference(set1)\n",
        "print(\"Set 1:\" , set1)\n",
        "print(\"Set 2:\" , set2)\n",
        "print(\"Is set1 a subset of set2?\" , is_subset)\n",
        "print(\"Is set2 a subset of set1?\" , is_superset)\n",
        "print(\"Intersection:\" , intersection)\n",
        "print(\"Union:\" , union)\n",
        "print(\"Elements in set1 but not in set2:\" , difference1)\n",
        "print(\"Elements in set2  but not in set1\" , difference2)"
      ],
      "metadata": {
        "id": "_7koDpe84shl",
        "colab": {
          "base_uri": "https://localhost:8080/"
        },
        "outputId": "2d203c74-7d75-4bda-b357-1da54a2138fb"
      },
      "execution_count": null,
      "outputs": [
        {
          "output_type": "stream",
          "name": "stdout",
          "text": [
            "Set 1: {1, 2, 3, 4, 5}\n",
            "Set 2: {4, 5, 6, 7, 8}\n",
            "Is set1 a subset of set2? False\n",
            "Is set2 a subset of set1? False\n",
            "Intersection: {4, 5}\n",
            "Union: {1, 2, 3, 4, 5, 6, 7, 8}\n",
            "Elements in set1 but not in set2: {1, 2, 3}\n",
            "Elements in set2  but not in set1 {8, 6, 7}\n"
          ]
        }
      ]
    },
    {
      "cell_type": "code",
      "source": [
        "#33. Create a set from a string\n",
        "\n",
        "input_string = \"sanyogita\"\n",
        "char_set = set(input_string)\n",
        "print(char_set)"
      ],
      "metadata": {
        "id": "e8DYfwtf40s7",
        "colab": {
          "base_uri": "https://localhost:8080/"
        },
        "outputId": "56b42cce-6ebc-4153-aaa1-f72f6276019b"
      },
      "execution_count": null,
      "outputs": [
        {
          "output_type": "stream",
          "name": "stdout",
          "text": [
            "{'t', 'o', 'n', 'a', 'y', 'i', 'g', 's'}\n"
          ]
        }
      ]
    },
    {
      "cell_type": "code",
      "source": [
        "#34. Convert a set of strings to a set of integers\n",
        "\n",
        "string_set = {\"123\" , \"456\" , \"789\"}\n",
        "integer_set = set()\n",
        "for string in string_set:\n",
        "    integer_value = int(string)\n",
        "    integer_set.add(integer_value)\n",
        "print(\"Original string set:\" , string_set)\n",
        "print(\"Converted integer set:\" , integer_set)"
      ],
      "metadata": {
        "id": "yn4aV92_48Hr",
        "colab": {
          "base_uri": "https://localhost:8080/"
        },
        "outputId": "82021789-0c64-4d9f-8a6c-d44fb0b7e7df"
      },
      "execution_count": null,
      "outputs": [
        {
          "output_type": "stream",
          "name": "stdout",
          "text": [
            "Original string set: {'123', '789', '456'}\n",
            "Converted integer set: {456, 123, 789}\n"
          ]
        }
      ]
    },
    {
      "cell_type": "code",
      "source": [
        "#35. Convert a set of integers to a set of strings\n",
        "\n",
        "integers_set = {1,2,3,4,5}\n",
        "strings_set = set()\n",
        "for num in integers_set:\n",
        "   num_str = str(num)\n",
        "   strings_set.add(num_str)\n",
        "print(\"Original integers_set:\" , integers_set)\n",
        "print(\"Converted strings_set:\" , strings_set)"
      ],
      "metadata": {
        "id": "7aw_D6zq5GVY",
        "colab": {
          "base_uri": "https://localhost:8080/"
        },
        "outputId": "eb2f2410-9ef3-4201-ba91-589b6df1da7b"
      },
      "execution_count": null,
      "outputs": [
        {
          "output_type": "stream",
          "name": "stdout",
          "text": [
            "Original integers_set: {1, 2, 3, 4, 5}\n",
            "Converted strings_set: {'3', '2', '4', '1', '5'}\n"
          ]
        }
      ]
    },
    {
      "cell_type": "code",
      "source": [
        "#36. Create a set from a\n",
        "\n",
        "input_tuple = (1,2,3,2,4,5,1)\n",
        "output_set = set(input_tuple)\n",
        "print(output_set)"
      ],
      "metadata": {
        "id": "-6WS5Dn_5QGx",
        "colab": {
          "base_uri": "https://localhost:8080/"
        },
        "outputId": "a34cfc74-9d55-418a-eaad-a556e56c7d05"
      },
      "execution_count": null,
      "outputs": [
        {
          "output_type": "stream",
          "name": "stdout",
          "text": [
            "{1, 2, 3, 4, 5}\n"
          ]
        }
      ]
    },
    {
      "cell_type": "code",
      "source": [
        "#37. Convert a set to a tuple\n",
        "\n",
        "input_set = {1,2,3,4,5}\n",
        "output_tuple = tuple(input_set)\n",
        "print(\"Original set:\" , input_set)\n",
        "print(\"Converted tuple:\" , output_tuple)"
      ],
      "metadata": {
        "id": "TSZo8IwT5U4p",
        "colab": {
          "base_uri": "https://localhost:8080/"
        },
        "outputId": "01b8cbee-b87d-44e3-fa70-9e8d92005988"
      },
      "execution_count": null,
      "outputs": [
        {
          "output_type": "stream",
          "name": "stdout",
          "text": [
            "Original set: {1, 2, 3, 4, 5}\n",
            "Converted tuple: (1, 2, 3, 4, 5)\n"
          ]
        }
      ]
    },
    {
      "cell_type": "code",
      "source": [
        "#38. Find the max value in a set\n",
        "\n",
        "my_set = {15,7,22,13,8}\n",
        "max_value = None\n",
        "for num in my_set:\n",
        "  if max_value is None or num < max_value:\n",
        "    max_value = num\n",
        "print(\"Maximum value:\" , max_value)"
      ],
      "metadata": {
        "id": "hGjqBr885goa",
        "colab": {
          "base_uri": "https://localhost:8080/"
        },
        "outputId": "fd93836e-1395-499f-f8c5-652ea7ba2c44"
      },
      "execution_count": null,
      "outputs": [
        {
          "output_type": "stream",
          "name": "stdout",
          "text": [
            "Maximum value: 7\n"
          ]
        }
      ]
    },
    {
      "cell_type": "code",
      "source": [
        "#39. Find the min value in a set\n",
        "\n",
        "number_set = {15,8,23,4,42,11}\n",
        "min_value = None\n",
        "for num in number_set:\n",
        "  if min_value is None or num < min_value:\n",
        "     min_value = num\n",
        "print(\"The minimum value in the set is:\" , min_value)"
      ],
      "metadata": {
        "id": "tU-tUVBj5ovh",
        "colab": {
          "base_uri": "https://localhost:8080/"
        },
        "outputId": "a060e2d5-372c-48dd-8fd9-6010a730a7db"
      },
      "execution_count": null,
      "outputs": [
        {
          "output_type": "stream",
          "name": "stdout",
          "text": [
            "The minimum value in the set is: 4\n"
          ]
        }
      ]
    },
    {
      "cell_type": "code",
      "source": [
        "#40. Create a set from user input\n",
        "\n",
        "user_set = set()\n",
        "print(\"Enter elements for the set(type 'done' to finish):\")\n",
        "while True:\n",
        "  user_input = input(\"<\")\n",
        "  if user_input.lower() == 'done':\n",
        "     break\n",
        "  user_set.add(user_input)\n",
        "print(\"Final set:\" , user_set)"
      ],
      "metadata": {
        "id": "RaX-CVzK5tsI",
        "colab": {
          "base_uri": "https://localhost:8080/"
        },
        "outputId": "a68f0b4f-d02d-4816-8840-fd9bebec540a"
      },
      "execution_count": null,
      "outputs": [
        {
          "output_type": "stream",
          "name": "stdout",
          "text": [
            "Enter elements for the set(type 'done' to finish):\n",
            "<sanyogita\n",
            "<arun\n",
            "<shailesh\n",
            "<manan\n",
            "<done\n",
            "Final set: {'sanyogita', 'arun', 'shailesh', 'manan'}\n"
          ]
        }
      ]
    },
    {
      "cell_type": "code",
      "source": [
        "#41. Check if the intersection of two sets is empty\n",
        "\n",
        "set1 = {1,2,3,4,5}\n",
        "set2 = {4,5,6,7,8}\n",
        "\n",
        "intersection_result = set1.intersection(set2)\n",
        "if not intersection_result:\n",
        "  print(\"The intersection of the two sets is empty\")\n",
        "else:\n",
        "  print(\"The intersection of the two sets is not empty\")"
      ],
      "metadata": {
        "id": "1JQP5SEY5zg1",
        "colab": {
          "base_uri": "https://localhost:8080/"
        },
        "outputId": "467143a3-4480-4b1f-afde-b145e6969ef8"
      },
      "execution_count": null,
      "outputs": [
        {
          "output_type": "stream",
          "name": "stdout",
          "text": [
            "The intersection of the two sets is not empty\n"
          ]
        }
      ]
    },
    {
      "cell_type": "code",
      "source": [
        "#42. Create a set of the first 5 fibonacci numbers\n",
        "\n",
        "fibonacci_set = set()\n",
        "a,b = 0,1\n",
        "for _ in range(6):\n",
        "   fibonacci_set.add(a)\n",
        "   a,b = b , a + b\n",
        "print(\"Set of the first 5 fibonacci numbers:\" , fibonacci_set)\n"
      ],
      "metadata": {
        "id": "oDmxibcr580y",
        "colab": {
          "base_uri": "https://localhost:8080/"
        },
        "outputId": "199b5cab-3dc2-4a48-a0a3-22ea5cd17c8a"
      },
      "execution_count": null,
      "outputs": [
        {
          "output_type": "stream",
          "name": "stdout",
          "text": [
            "Set of the first 5 fibonacci numbers: {0, 1, 2, 3, 5}\n"
          ]
        }
      ]
    },
    {
      "cell_type": "code",
      "source": [
        "#43. Remove duplicates from a list using sets\n",
        "\n",
        "original_list = [2,4,6,8,4,10,6,12,14,8]\n",
        "unique_set = set(original_list)\n",
        "unique_list = list(unique_set)\n",
        "print(\"Original List:\" , original_list)\n",
        "print(\"List with duplicates rempved:\" , unique_list)"
      ],
      "metadata": {
        "id": "GQtPVkWs6EVF",
        "colab": {
          "base_uri": "https://localhost:8080/"
        },
        "outputId": "e29e2df2-96ba-4009-a4c7-103da27e46e2"
      },
      "execution_count": null,
      "outputs": [
        {
          "output_type": "stream",
          "name": "stdout",
          "text": [
            "Original List: [2, 4, 6, 8, 4, 10, 6, 12, 14, 8]\n",
            "List with duplicates rempved: [2, 4, 6, 8, 10, 12, 14]\n"
          ]
        }
      ]
    },
    {
      "cell_type": "code",
      "source": [
        "#44. Check if two sets have the same elements, regardless of their count\n",
        "\n",
        "def have_same_elements(set1, set2):\n",
        "  sorted_list1 = sorted(list(set1))\n",
        "  sorted_list2 = sorted(list(set2))\n",
        "  return sorted_list1 == sorted_list2\n",
        "\n",
        "set1 = {1,2,3,2,1}\n",
        "set2 = {3,1,2}\n",
        "result = have_same_elements(set1, set2)\n",
        "\n",
        "if result:\n",
        "  print(\"The set have the same elements\")\n",
        "else:\n",
        "  print(\"The sets do not have the same elements\")"
      ],
      "metadata": {
        "id": "U0XqvNV_6R_H",
        "colab": {
          "base_uri": "https://localhost:8080/"
        },
        "outputId": "1790560a-72e2-4838-fb59-a09258c9f617"
      },
      "execution_count": null,
      "outputs": [
        {
          "output_type": "stream",
          "name": "stdout",
          "text": [
            "The set have the same elements\n"
          ]
        }
      ]
    },
    {
      "cell_type": "code",
      "source": [
        "#45. Create a set of the first 'n' powers of 2\n",
        "\n",
        "def generate_powers_of_2(n):\n",
        "    powers_of_2 = set()\n",
        "    for i in range(n):\n",
        "       power = 2 ** i\n",
        "       powers_of_2.add(power)\n",
        "    return powers_of_2\n",
        "n = 5\n",
        "powers_set = generate_powers_of_2(n)\n",
        "print(powers_set)"
      ],
      "metadata": {
        "id": "p5BnRGsA6gqs",
        "colab": {
          "base_uri": "https://localhost:8080/"
        },
        "outputId": "fcde10c9-19da-47cd-c3a9-c033149e9c68"
      },
      "execution_count": null,
      "outputs": [
        {
          "output_type": "stream",
          "name": "stdout",
          "text": [
            "{1, 2, 4, 8, 16}\n"
          ]
        }
      ]
    },
    {
      "cell_type": "code",
      "source": [
        "#46. Find the commom elements between a set and a list\n",
        "\n",
        "my_set = {3,7,9,12,15}\n",
        "my_list = {7,12,5,9}\n",
        "list_to_set = set(my_set)\n",
        "common_elements = []\n",
        "\n",
        "for element in my_set:\n",
        "  if element in list_to_set:\n",
        "    common_elements.append(element)\n",
        "print(\"Common elements:\" , common_elements)"
      ],
      "metadata": {
        "colab": {
          "base_uri": "https://localhost:8080/"
        },
        "id": "GLeI7mUA6r1g",
        "outputId": "9b40d9c5-3d19-4016-a755-b980d4f97734"
      },
      "execution_count": null,
      "outputs": [
        {
          "output_type": "stream",
          "name": "stdout",
          "text": [
            "Common elements: [3, 7, 9, 12, 15]\n"
          ]
        }
      ]
    },
    {
      "cell_type": "code",
      "source": [
        "#47.Create a set of the first 'n' triangular numbers\n",
        "\n",
        "def isTriangular(num):\n",
        " if(num < 0):\n",
        "  return False\n",
        " sum, n = 0, 1\n",
        " while(sum <= num):\n",
        "   sum = sum + n\n",
        "   if(sum == num):\n",
        "     return True\n",
        "   n += 1\n",
        "   return False\n",
        "n = 55\n",
        "if(isTriangular(n)):\n",
        "  print(\"The number is a triangular number\")\n",
        "else:\n",
        "  print(\"The number is not a triangular number\")"
      ],
      "metadata": {
        "colab": {
          "base_uri": "https://localhost:8080/"
        },
        "id": "_V0B0OY063FR",
        "outputId": "e08f7286-97bf-48e7-dc0f-dee49e3b5989"
      },
      "execution_count": null,
      "outputs": [
        {
          "output_type": "stream",
          "name": "stdout",
          "text": [
            "The number is not a triangular number\n"
          ]
        }
      ]
    },
    {
      "cell_type": "code",
      "source": [
        "#48. Check if a set contains another set as a subset\n",
        "\n",
        "s1 = {1,2,3,4,5}\n",
        "s2 = {4,5}\n",
        "print(s2.issubset(s1))"
      ],
      "metadata": {
        "colab": {
          "base_uri": "https://localhost:8080/"
        },
        "id": "jgR-5wJO69df",
        "outputId": "50b357a4-d5ba-4cd8-e0ab-7beb0f2b90e8"
      },
      "execution_count": null,
      "outputs": [
        {
          "output_type": "stream",
          "name": "stdout",
          "text": [
            "True\n"
          ]
        }
      ]
    },
    {
      "cell_type": "code",
      "source": [
        "#49. Create a set of alternating 1s and 0s of length 'n'\n",
        "\n",
        "count_1 = 4\n",
        "count_0 = 3\n",
        "size = 14\n",
        "test_list = [1 if i % (count_1 + count_0) < count_1\n",
        "             else 0 for i in range(size)]\n",
        "print(\"The list after initializing: \" + str(test_list))"
      ],
      "metadata": {
        "colab": {
          "base_uri": "https://localhost:8080/"
        },
        "id": "r921srDh7Exp",
        "outputId": "4f9a952b-7fdb-49b6-b59e-fbf8de14b2d0"
      },
      "execution_count": null,
      "outputs": [
        {
          "output_type": "stream",
          "name": "stdout",
          "text": [
            "The list after initializing: [1, 1, 1, 1, 0, 0, 0, 1, 1, 1, 1, 0, 0, 0]\n"
          ]
        }
      ]
    },
    {
      "cell_type": "code",
      "source": [
        "#50. Merge multiple sets into one\n",
        "\n",
        "from itertools import chain\n",
        "test_list = [{1,2,3,4},{5,6,7,8},{9,10,11,12},{13,14,15,16}]\n",
        "print(\"The original list is: \" + str(test_list))\n",
        "res = set(chain(*test_list))\n",
        "print(\"Multiple set union: \" + str(res))"
      ],
      "metadata": {
        "colab": {
          "base_uri": "https://localhost:8080/"
        },
        "id": "NIrjdFkS7QmM",
        "outputId": "b80e1e00-ec23-42bb-e631-7a707bed000d"
      },
      "execution_count": null,
      "outputs": [
        {
          "output_type": "stream",
          "name": "stdout",
          "text": [
            "The original list is: [{1, 2, 3, 4}, {8, 5, 6, 7}, {9, 10, 11, 12}, {16, 13, 14, 15}]\n",
            "Multiple set union: {1, 2, 3, 4, 5, 6, 7, 8, 9, 10, 11, 12, 13, 14, 15, 16}\n"
          ]
        }
      ]
    }
  ]
}